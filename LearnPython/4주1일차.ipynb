{
 "cells": [
  {
   "cell_type": "markdown",
   "id": "english-finder",
   "metadata": {},
   "source": [
    "## 7일차 수업"
   ]
  },
  {
   "cell_type": "code",
   "execution_count": 3,
   "id": "formal-mortality",
   "metadata": {},
   "outputs": [],
   "source": [
    "# 클래스 생성\n",
    "# class 클래스 이름 :\n",
    "#       속성리스트\n",
    "#       메소드리스트\n",
    "# 클래스 이름은 무조건 대문자로 시작 ex) class Car, class Dog, Class Air...\n",
    "\n",
    "class Dog:\n",
    "    def __init__(self, name, age): # consturctor, 생성자\n",
    "        \"\"\"생성자, 이름과 나이를 패러미터로 받아 초기화\"\"\"\n",
    "        self.name = name\n",
    "        self.age = age\n",
    "        \n",
    "    def sit(self):\n",
    "        print(f\"{self.name} is now sitting.\")\n",
    "    \n",
    "    def roll_over(self):\n",
    "        print(f\"{self.name} rolled over.\")\n",
    "        \n",
    "    def describe(self):\n",
    "        print(f\"{self.name} is {self.age} years old.\")\n",
    "        \n"
   ]
  },
  {
   "cell_type": "code",
   "execution_count": 4,
   "id": "ancient-classroom",
   "metadata": {},
   "outputs": [],
   "source": [
    "# 클래스로부터 객체 성생하기\n",
    "\n",
    "myDog = Dog(\"Wille\", 5)"
   ]
  },
  {
   "cell_type": "code",
   "execution_count": 5,
   "id": "documentary-porter",
   "metadata": {},
   "outputs": [],
   "source": [
    "urDog = Dog(\"Mark\", 3)"
   ]
  },
  {
   "cell_type": "code",
   "execution_count": 7,
   "id": "legendary-indianapolis",
   "metadata": {},
   "outputs": [
    {
     "name": "stdout",
     "output_type": "stream",
     "text": [
      "Mark is 3 years old.\n",
      "Mark is now sitting.\n",
      "Mark rolled over.\n"
     ]
    }
   ],
   "source": [
    "urDog.describe()\n",
    "urDog.sit()\n",
    "urDog.roll_over()"
   ]
  },
  {
   "cell_type": "code",
   "execution_count": 8,
   "id": "quiet-floating",
   "metadata": {},
   "outputs": [
    {
     "data": {
      "text/plain": [
       "'Wille'"
      ]
     },
     "execution_count": 8,
     "metadata": {},
     "output_type": "execute_result"
    }
   ],
   "source": [
    "myDog.name"
   ]
  },
  {
   "cell_type": "code",
   "execution_count": 9,
   "id": "constant-brush",
   "metadata": {},
   "outputs": [],
   "source": [
    "class Restaurant:\n",
    "    def __init__(self, name, type):\n",
    "        self.name = name\n",
    "        self.type = type\n",
    "        \n",
    "    def open(self):\n",
    "        print(f\"{self.name} is open.\")\n",
    "        \n",
    "    def describe(self):\n",
    "        print(f\"{self.name} is {self.type} restaurant.\")\n",
    "        \n",
    "    "
   ]
  },
  {
   "cell_type": "code",
   "execution_count": 10,
   "id": "enormous-oklahoma",
   "metadata": {},
   "outputs": [],
   "source": [
    "R1 = Restaurant(\"애슐리\", \"패밀리\")"
   ]
  },
  {
   "cell_type": "code",
   "execution_count": 11,
   "id": "floating-brand",
   "metadata": {},
   "outputs": [],
   "source": [
    "R2 = Restaurant(\"다누끼\", \"일식\")"
   ]
  },
  {
   "cell_type": "code",
   "execution_count": 19,
   "id": "sharing-precipitation",
   "metadata": {},
   "outputs": [],
   "source": [
    "R3 = Restaurant(\"빌라디쉐프\", \"이탈리안\")"
   ]
  },
  {
   "cell_type": "code",
   "execution_count": 17,
   "id": "attractive-resistance",
   "metadata": {},
   "outputs": [
    {
     "name": "stdout",
     "output_type": "stream",
     "text": [
      "애슐리 is open.\n",
      "애슐리 is 패밀리 restaurant.\n"
     ]
    }
   ],
   "source": [
    "R1.open()\n",
    "R1.describe()"
   ]
  },
  {
   "cell_type": "code",
   "execution_count": 18,
   "id": "muslim-attachment",
   "metadata": {},
   "outputs": [
    {
     "name": "stdout",
     "output_type": "stream",
     "text": [
      "다누끼 is open.\n",
      "다누끼 is 일식 restaurant.\n"
     ]
    }
   ],
   "source": [
    "R2.open()\n",
    "R2.describe()"
   ]
  },
  {
   "cell_type": "code",
   "execution_count": 20,
   "id": "imposed-eagle",
   "metadata": {},
   "outputs": [
    {
     "name": "stdout",
     "output_type": "stream",
     "text": [
      "빌라디쉐프 is open.\n",
      "빌라디쉐프 is 이탈리안 restaurant.\n"
     ]
    }
   ],
   "source": [
    "R3.open()\n",
    "R3.describe()"
   ]
  },
  {
   "cell_type": "code",
   "execution_count": 57,
   "id": "hairy-editor",
   "metadata": {},
   "outputs": [],
   "source": [
    "class User:\n",
    "    def __init__(self, first, last, age):\n",
    "        self.first = first\n",
    "        self.last = last\n",
    "        self.age = age\n",
    "        self.fullname = first + last\n",
    "        \n",
    "    def greet(self):\n",
    "        print(f\"{self.fullname}님 안녕하세요.\")\n",
    "        \n",
    "    def user(self):\n",
    "        print(f\"{self.fullname}님의 성은 {self.first}, 이름은 {self.last}, 나이는 {self.age}세 입니다.\")\n",
    "    \n"
   ]
  },
  {
   "cell_type": "code",
   "execution_count": 58,
   "id": "raising-serum",
   "metadata": {},
   "outputs": [],
   "source": [
    "U1 = User(\"이\", \"정호\", \"26\")"
   ]
  },
  {
   "cell_type": "code",
   "execution_count": 59,
   "id": "inner-rhythm",
   "metadata": {},
   "outputs": [
    {
     "name": "stdout",
     "output_type": "stream",
     "text": [
      "이정호님 안녕하세요.\n",
      "이정호님의 성은 이, 이름은 정호, 나이는 26세 입니다.\n"
     ]
    }
   ],
   "source": [
    "U1.greet()\n",
    "U1.user()"
   ]
  },
  {
   "cell_type": "code",
   "execution_count": 69,
   "id": "ambient-smile",
   "metadata": {},
   "outputs": [],
   "source": [
    "class Car :\n",
    "    def __init__(self, maker, model, year):\n",
    "        self.maker = maker\n",
    "        self.model = model\n",
    "        self.year = year\n",
    "        self.odometer = 0\n",
    "        \n",
    "    def descriptiveName(self):\n",
    "        longName = f\"{self.year} {self.maker} {self.model}\"\n",
    "        return longName\n",
    "    \n",
    "    def run(self, running):\n",
    "        self.odometer += running\n",
    "    \n",
    "    def info(self):\n",
    "        print(f\"이 자동차의 총 주행거리는 {self.odometer}km 입니다.\")\n",
    "        \n",
    "        \n"
   ]
  },
  {
   "cell_type": "code",
   "execution_count": 70,
   "id": "powerful-shopper",
   "metadata": {},
   "outputs": [
    {
     "name": "stdout",
     "output_type": "stream",
     "text": [
      "2021 현대 그랜저\n",
      "이 자동차의 총 주행거리는 0km 입니다.\n",
      "이 자동차의 총 주행거리는 250km 입니다.\n"
     ]
    }
   ],
   "source": [
    "myCar = Car(\"현대\", \"그랜저\", 2021)\n",
    "print(myCar.descriptiveName())\n",
    "myCar.info()\n",
    "myCar.run(250)\n",
    "myCar.info()"
   ]
  },
  {
   "cell_type": "code",
   "execution_count": 78,
   "id": "greater-scoop",
   "metadata": {},
   "outputs": [],
   "source": [
    "# 상속\n",
    "# class, 서브클래스이름(슈퍼클래스)\n",
    "class ElectricCar(Car):\n",
    "    def __init__(self, maker, model, year):\n",
    "        super().__init__(maker, model, year)\n",
    "        self.batterySize = 75\n",
    "        \n",
    "        \n",
    "    def describeBatterysize(self):\n",
    "        print(f\"이 차의 배터리 용량은 {self.batterySize}KWh 입니다.\")\n",
    "        \n",
    "    def run(self, running): #오버라이드\n",
    "        self.odometer += running\n",
    "        self.batterySize -= 10\n",
    "    \n",
    "    def info(self): #오버라이드\n",
    "        print(f\"이 자동차의 총 주행거리는 {self.odometer}km 이고, 잔여배터리는 {self.batterySize}KWh 입니다.\")\n",
    "    "
   ]
  },
  {
   "cell_type": "code",
   "execution_count": 79,
   "id": "opened-plumbing",
   "metadata": {},
   "outputs": [
    {
     "name": "stdout",
     "output_type": "stream",
     "text": [
      "2021 테슬라 Model S\n",
      "이 차의 배터리 용량은 75KWh 입니다.\n",
      "이 자동차의 총 주행거리는 100km 이고, 잔여배터리는 65KWh 입니다.\n"
     ]
    }
   ],
   "source": [
    "myTesla = ElectricCar(\"테슬라\", \"Model S\", 2021)\n",
    "print(myTesla.descriptiveName())\n",
    "myTesla.describeBatterysize()\n",
    "myTesla.run(100)\n",
    "myTesla.info()"
   ]
  },
  {
   "cell_type": "code",
   "execution_count": 10,
   "id": "intimate-isaac",
   "metadata": {},
   "outputs": [],
   "source": [
    "# 연습문제 9-4\n",
    "\n",
    "class Restaurant:\n",
    "    def __init__(self, name, type):\n",
    "        self.name = name\n",
    "        self.type = type\n",
    "        self.numberofserved = 0\n",
    "        \n",
    "    def open(self):\n",
    "        print(f\"{self.name} is open.\")\n",
    "        \n",
    "    def describe(self):\n",
    "        print(f\"{self.name} is {self.type} restaurant.\")\n",
    "        \n",
    "   \n",
    "    def setserved(self, num):\n",
    "        self.numberofserved = num\n",
    "        \n",
    "    def incserved(self, num):\n",
    "        self.numberofserved += num\n",
    "    def showinfo(self):\n",
    "        print(f\"{self.name}은 {self.type}이며 서빙한 고객들은 {self.numberofserved}명 입니다.\")"
   ]
  },
  {
   "cell_type": "code",
   "execution_count": 11,
   "id": "electoral-train",
   "metadata": {},
   "outputs": [
    {
     "name": "stdout",
     "output_type": "stream",
     "text": [
      "북극성은 중식이며 서빙한 고객들은 0명 입니다.\n",
      "북극성은 중식이며 서빙한 고객들은 100명 입니다.\n",
      "북극성은 중식이며 서빙한 고객들은 110명 입니다.\n"
     ]
    }
   ],
   "source": [
    "R1 = Restaurant(\"북극성\", \"중식\")\n",
    "R1.showinfo()\n",
    "R1.setserved(100)\n",
    "R1.showinfo()\n",
    "R1.incserved(10)\n",
    "R1.showinfo()"
   ]
  },
  {
   "cell_type": "code",
   "execution_count": 13,
   "id": "blank-style",
   "metadata": {},
   "outputs": [],
   "source": [
    "class User:\n",
    "    def __init__(self, first, last, age):\n",
    "        self.first = first\n",
    "        self.last = last\n",
    "        self.age = age\n",
    "        self.fullname = first + last\n",
    "        self.attempts = 0\n",
    "        \n",
    "    def greet(self):\n",
    "        print(f\"{self.fullname}님 안녕하세요.\")\n",
    "        \n",
    "    def user(self):\n",
    "        print(f\"{self.fullname}님의 성은 {self.first}, 이름은 {self.last}, 나이는 {self.age}세 입니다.\")\n",
    "    \n",
    "    def loginattempts(self):\n",
    "        self.attempts += 1\n",
    "        \n",
    "    def resetattempts(self):\n",
    "        self.attempts = 0\n",
    "    \n",
    "    def info(self):\n",
    "        print(f\"{self.attempts}\")"
   ]
  },
  {
   "cell_type": "code",
   "execution_count": 16,
   "id": "challenging-prefix",
   "metadata": {},
   "outputs": [],
   "source": [
    "U1 = User(\"이\", \"정호\", 26)"
   ]
  },
  {
   "cell_type": "code",
   "execution_count": 17,
   "id": "canadian-likelihood",
   "metadata": {},
   "outputs": [
    {
     "name": "stdout",
     "output_type": "stream",
     "text": [
      "0\n"
     ]
    }
   ],
   "source": [
    "U1.info()"
   ]
  },
  {
   "cell_type": "code",
   "execution_count": 18,
   "id": "employed-rotation",
   "metadata": {},
   "outputs": [],
   "source": [
    "U1.loginattempts()"
   ]
  },
  {
   "cell_type": "code",
   "execution_count": 19,
   "id": "treated-ontario",
   "metadata": {},
   "outputs": [
    {
     "name": "stdout",
     "output_type": "stream",
     "text": [
      "1\n"
     ]
    }
   ],
   "source": [
    "U1.info()"
   ]
  },
  {
   "cell_type": "code",
   "execution_count": null,
   "id": "reported-requirement",
   "metadata": {},
   "outputs": [],
   "source": []
  }
 ],
 "metadata": {
  "kernelspec": {
   "display_name": "Python 3",
   "language": "python",
   "name": "python3"
  },
  "language_info": {
   "codemirror_mode": {
    "name": "ipython",
    "version": 3
   },
   "file_extension": ".py",
   "mimetype": "text/x-python",
   "name": "python",
   "nbconvert_exporter": "python",
   "pygments_lexer": "ipython3",
   "version": "3.9.1"
  }
 },
 "nbformat": 4,
 "nbformat_minor": 5
}
