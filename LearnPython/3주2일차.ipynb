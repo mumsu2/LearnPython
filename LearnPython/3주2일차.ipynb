{
 "cells": [
  {
   "cell_type": "markdown",
   "id": "bored-catering",
   "metadata": {},
   "source": [
    "### 함수"
   ]
  },
  {
   "cell_type": "code",
   "execution_count": 22,
   "id": "continuous-musical",
   "metadata": {},
   "outputs": [],
   "source": [
    "# 함수 정의\n",
    "# def 함수이름(패러미터리스트):\n",
    "# 함수의 내용\n",
    "\n",
    "def greetings(user, times):\n",
    "    if times == '아침':\n",
    "        print(f'{user}, 아침은 드셨나요?')\n",
    "    elif times == '점심':\n",
    "        print(f'{user}, 날씨가 참 좋아요')\n",
    "    elif times == '저녁':\n",
    "        print(f'{user}, 편히 쉬세요')\n",
    "    else:\n",
    "        print(f'{user}, 안녕하세요')"
   ]
  },
  {
   "cell_type": "code",
   "execution_count": 23,
   "id": "crude-caribbean",
   "metadata": {},
   "outputs": [
    {
     "name": "stdout",
     "output_type": "stream",
     "text": [
      "아저씨, 아침은 드셨나요?\n",
      "아줌마, 날씨가 참 좋아요\n",
      "아저씨, 편히 쉬세요\n",
      ", 안녕하세요\n"
     ]
    }
   ],
   "source": [
    "# 함수 호출, 함수 사용\n",
    "greetings('아저씨', '아침')\n",
    "greetings('아줌마', '점심')\n",
    "greetings('아저씨', '저녁')\n",
    "greetings('', '')"
   ]
  },
  {
   "cell_type": "code",
   "execution_count": 29,
   "id": "adverse-indication",
   "metadata": {},
   "outputs": [
    {
     "name": "stdout",
     "output_type": "stream",
     "text": [
      "My 햄스터의 이름은 해리입니다.\n"
     ]
    }
   ],
   "source": [
    "def describe(animaltype, petname):\n",
    "    print(f\"My {animaltype}의 이름은 {petname}입니다.\")\n",
    "\n",
    "describe('햄스터', '해리')"
   ]
  },
  {
   "cell_type": "code",
   "execution_count": 30,
   "id": "cosmetic-synthesis",
   "metadata": {},
   "outputs": [
    {
     "name": "stdout",
     "output_type": "stream",
     "text": [
      "My 햄스터의 이름은 해리입니다.\n"
     ]
    }
   ],
   "source": [
    "def describe(animaltype, petname):\n",
    "    print(f\"My {animaltype}의 이름은 {petname}입니다.\")\n",
    "\n",
    "describe(petname = '해리', animaltype = '햄스터')"
   ]
  },
  {
   "cell_type": "markdown",
   "id": "lined-bundle",
   "metadata": {},
   "source": [
    "**연습문제 8-3** 티셔츠 사이즈와 티셔츠에 인쇄할 메시지를 받은 make_shirt()함수를, 위치형 매개변수와 키워드 매개변수를 사용하는 방식으로 각각 프로그래밍 하시오."
   ]
  },
  {
   "cell_type": "code",
   "execution_count": 31,
   "id": "parental-dylan",
   "metadata": {},
   "outputs": [
    {
     "name": "stdout",
     "output_type": "stream",
     "text": [
      "사이즈는 M , 문구는 안녕입니다.\n"
     ]
    }
   ],
   "source": [
    "def describe(size, message):\n",
    "    print(f\"사이즈는 {size} , 문구는 {message}입니다.\")\n",
    "\n",
    "describe(size = 'M', message = '안녕')"
   ]
  },
  {
   "cell_type": "code",
   "execution_count": 32,
   "id": "earned-mission",
   "metadata": {},
   "outputs": [
    {
     "name": "stdout",
     "output_type": "stream",
     "text": [
      "Size : small, Message : 안녕\n",
      "Size : 안녕, Message : small\n",
      "Size : small, Message : 안녕\n",
      "Size : small, Message : 안녕\n",
      "Size : large, Message : 안녕\n"
     ]
    }
   ],
   "source": [
    "def make_shirtP(size, message):\n",
    "    print(f\"Size : {size}, Message : {message}\")\n",
    "\n",
    "def make_shirtK(size, message = '안녕'):\n",
    "    print(f\"Size : {size}, Message : {message}\")\n",
    "\n",
    "make_shirtP('small', '안녕')\n",
    "make_shirtP('안녕', 'small')\n",
    "\n",
    "make_shirtK(size = 'small', message = '안녕')\n",
    "make_shirtK(message = '안녕', size = 'small')\n",
    "make_shirtK('large')"
   ]
  },
  {
   "cell_type": "code",
   "execution_count": 33,
   "id": "cubic-appliance",
   "metadata": {},
   "outputs": [
    {
     "name": "stdout",
     "output_type": "stream",
     "text": [
      "4\n"
     ]
    }
   ],
   "source": [
    "# 함수의 반환값\n",
    "def add(n1, n2):\n",
    "    result = n1 + n2\n",
    "    return result\n",
    "\n",
    "print(add(1,3))"
   ]
  },
  {
   "cell_type": "code",
   "execution_count": 36,
   "id": "organic-dietary",
   "metadata": {},
   "outputs": [
    {
     "name": "stdout",
     "output_type": "stream",
     "text": [
      "{'first': 'jimi', 'last': 'hendrix', 'age': 27}\n"
     ]
    }
   ],
   "source": [
    "def build_person(first_name, last_name, age = None):\n",
    "    person = {'first': first_name, 'last' : last_name}\n",
    "    if age:\n",
    "        person['age'] = age\n",
    "    return person\n",
    "\n",
    "musician = build_person('jimi', 'hendrix', age = 27)\n",
    "print(musician)"
   ]
  },
  {
   "cell_type": "code",
   "execution_count": 38,
   "id": "czech-complement",
   "metadata": {},
   "outputs": [
    {
     "name": "stdout",
     "output_type": "stream",
     "text": [
      "{'first': 'Lee', 'last': 'soonshin'}\n"
     ]
    }
   ],
   "source": [
    "musician = build_person('Lee', 'soonshin')\n",
    "print(musician)"
   ]
  },
  {
   "cell_type": "code",
   "execution_count": 40,
   "id": "smaller-purse",
   "metadata": {},
   "outputs": [
    {
     "name": "stdout",
     "output_type": "stream",
     "text": [
      "(enter 'q' at any time to quit)\n",
      "input city: Seoul\n",
      "input country: Korea\n",
      "Seoul, Korea\n",
      "(enter 'q' at any time to quit)\n",
      "input city: q\n"
     ]
    }
   ],
   "source": [
    "def city_country(city, country):\n",
    "    return f\"{city}, {country}\"\n",
    "\n",
    "while True:\n",
    "    print(\"(enter 'q' at any time to quit)\")\n",
    "    \n",
    "    city = input('input city: ')\n",
    "    if city == 'q':\n",
    "        break\n",
    "    country = input('input country: ')\n",
    "    if country == 'q':\n",
    "        break\n",
    "    \n",
    "    print(city_country(city,country))\n",
    "    \n",
    "    "
   ]
  },
  {
   "cell_type": "code",
   "execution_count": 45,
   "id": "hydraulic-connectivity",
   "metadata": {},
   "outputs": [
    {
     "name": "stdout",
     "output_type": "stream",
     "text": [
      "('홍길동',)\n",
      "('용주', '동진', '정호', '지은', '재은')\n"
     ]
    }
   ],
   "source": [
    "def chk_attend(*students):\n",
    "    \"\"\" 출석한 학생들의 리스트를 출력해주는 함수 \"\"\"\n",
    "    print(students) # 전달된 학생 명단을 튜플로 구성하여 출력\n",
    "    \n",
    "chk_attend('홍길동')\n",
    "chk_attend('용주', '동진', '정호', '지은', '재은')"
   ]
  },
  {
   "cell_type": "code",
   "execution_count": 54,
   "id": "sexual-scholarship",
   "metadata": {},
   "outputs": [
    {
     "name": "stdout",
     "output_type": "stream",
     "text": [
      "{'location': 'princeton', 'field': 'physics', 'first_name': 'albert', 'last_name': 'einstein'}\n",
      "{'location': '청주시', 'filed': 'semicondoctor', 'age': '25', 'gender': 'man', 'first_name': '정호', 'last_name': '이'}\n"
     ]
    }
   ],
   "source": [
    "def build_profile(first, last, **user_info):\n",
    "    \"\"\"사용자에 관해 아는 것을 모두 딕셔너리로 만듭니다\"\"\"\n",
    "    user_info['first_name'] = first\n",
    "    user_info['last_name'] = last\n",
    "    return user_info\n",
    "\n",
    "user_profile = build_profile('albert', 'einstein', location = 'princeton', field = 'physics')\n",
    "\n",
    "print(user_profile)\n",
    "\n",
    "my_profile = build_profile('정호', '이', location = '청주시', filed = 'semicondoctor', age = '25', gender = 'man')\n",
    "\n",
    "print(my_profile)"
   ]
  },
  {
   "cell_type": "code",
   "execution_count": 55,
   "id": "second-dodge",
   "metadata": {},
   "outputs": [
    {
     "data": {
      "text/plain": [
       "0.16620056477816847"
      ]
     },
     "execution_count": 55,
     "metadata": {},
     "output_type": "execute_result"
    }
   ],
   "source": [
    "import random\n",
    "random.random()"
   ]
  }
 ],
 "metadata": {
  "kernelspec": {
   "display_name": "Python 3",
   "language": "python",
   "name": "python3"
  },
  "language_info": {
   "codemirror_mode": {
    "name": "ipython",
    "version": 3
   },
   "file_extension": ".py",
   "mimetype": "text/x-python",
   "name": "python",
   "nbconvert_exporter": "python",
   "pygments_lexer": "ipython3",
   "version": "3.9.1"
  }
 },
 "nbformat": 4,
 "nbformat_minor": 5
}
