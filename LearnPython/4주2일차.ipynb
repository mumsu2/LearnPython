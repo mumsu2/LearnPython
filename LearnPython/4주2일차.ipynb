{
 "cells": [
  {
   "cell_type": "code",
   "execution_count": 2,
   "id": "understood-reading",
   "metadata": {},
   "outputs": [
    {
     "name": "stdout",
     "output_type": "stream",
     "text": [
      "3.1415926535\n",
      "  897932846\n",
      "  2643383279\n"
     ]
    }
   ],
   "source": [
    "# 파일 읽기 : open(), read()에 대하여 설명한다.\n",
    "# open() : 파일 객체 변환\n",
    "# with 블록 종료시 파일 자동 close\n",
    "# 파일 경로를 이용하여 경로와 파일을 지정할 수 있다.\n",
    "\n",
    "\n",
    "\n",
    "with open('inoutdata/pidigits.txt')as infile:\n",
    "    contents = infile.read()\n",
    "    \n",
    "print(contents)"
   ]
  },
  {
   "cell_type": "code",
   "execution_count": 3,
   "id": "convenient-interim",
   "metadata": {},
   "outputs": [
    {
     "name": "stdout",
     "output_type": "stream",
     "text": [
      "3.1415926535\n",
      "\n",
      "  897932846\n",
      "\n",
      "  2643383279\n"
     ]
    }
   ],
   "source": [
    "with open('inoutdata/pidigits.txt')as infile:\n",
    "    for line in infile:\n",
    "        print(line)\n",
    "        # print(line.rstrip()) # 공백라인 제거\n",
    "        "
   ]
  },
  {
   "cell_type": "code",
   "execution_count": 4,
   "id": "unexpected-stockholm",
   "metadata": {},
   "outputs": [
    {
     "name": "stdout",
     "output_type": "stream",
     "text": [
      "3.1415926535\n",
      "  897932846\n",
      "  2643383279\n"
     ]
    }
   ],
   "source": [
    "with open('inoutdata/pidigits.txt')as infile:\n",
    "    for line in infile:\n",
    "        print(line.rstrip()) # 공백라인 제거"
   ]
  },
  {
   "cell_type": "code",
   "execution_count": 5,
   "id": "assigned-angola",
   "metadata": {},
   "outputs": [
    {
     "name": "stdout",
     "output_type": "stream",
     "text": [
      "3.1415926535\n",
      "897932846\n",
      "2643383279\n"
     ]
    }
   ],
   "source": [
    "# 파일에서 행 리스트 구성하기\n",
    "filepath = 'inoutdata/pidigits.txt'\n",
    "\n",
    "with open(filepath) as infile:\n",
    "    lines = infile.readlines() # readlines()는 파일로부터 데이터를 행 단위로 읽어 리스트로 구성한다.\n",
    "    \n",
    "for line in lines:\n",
    "    print(line.strip())"
   ]
  },
  {
   "cell_type": "code",
   "execution_count": 6,
   "id": "ignored-consequence",
   "metadata": {},
   "outputs": [
    {
     "data": {
      "text/plain": [
       "['3.1415926535\\n', '  897932846\\n', '  2643383279']"
      ]
     },
     "execution_count": 6,
     "metadata": {},
     "output_type": "execute_result"
    }
   ],
   "source": [
    "type(lines)\n",
    "lines"
   ]
  },
  {
   "cell_type": "code",
   "execution_count": 9,
   "id": "active-decline",
   "metadata": {},
   "outputs": [
    {
     "name": "stdout",
     "output_type": "stream",
     "text": [
      "  2643383279  2643383279  2643383279\n",
      "36\n"
     ]
    }
   ],
   "source": [
    "#파일 콘텐츠 다루기\n",
    "\n",
    "filepath = 'inoutdata/pidigits.txt'\n",
    "\n",
    "with open(filepath) as infile:\n",
    "    lines = infile.readlines()\n",
    "    \n",
    "piString = ''\n",
    "for liine in lines:\n",
    "    piString += line.rstrip() # strip 앞에 r을 붙이면 공백을 만듦\n",
    "    \n",
    "print(piString)\n",
    "print(len(piString))"
   ]
  },
  {
   "cell_type": "code",
   "execution_count": 15,
   "id": "worth-resistance",
   "metadata": {},
   "outputs": [
    {
     "name": "stdout",
     "output_type": "stream",
     "text": [
      "3.14159265358979328462643383279\n",
      "31\n"
     ]
    }
   ],
   "source": [
    "filepath = 'inoutdata/pidigits.txt'\n",
    "\n",
    "with open(filepath) as infile:\n",
    "    lines = infile.readlines()\n",
    "    \n",
    "piString = ''\n",
    "for line in lines:\n",
    "    piString += line.strip() # strip 앞에 r을 붙이면 공백을 만듦\n",
    "    \n",
    "print(piString)\n",
    "print(len(piString))"
   ]
  },
  {
   "cell_type": "code",
   "execution_count": 16,
   "id": "identified-amazon",
   "metadata": {},
   "outputs": [
    {
     "name": "stdout",
     "output_type": "stream",
     "text": [
      "3.1415926535897932384626433832795028841971693993751058209749445923078164062862089986280348253421170679...\n",
      "1000002\n"
     ]
    }
   ],
   "source": [
    "# 백만단위의 큰 숫자 다루기\n",
    "\n",
    "filepath = 'inoutdata/mpidigits.txt' # m = 100만자리까지\n",
    "\n",
    "with open(filepath) as infile:\n",
    "    lines = infile.readlines()\n",
    "    \n",
    "piString = ''\n",
    "for line in lines:\n",
    "    piString += line.strip()\n",
    "    \n",
    "print(f\"{piString[:102]}...\")\n",
    "print(len(piString))"
   ]
  },
  {
   "cell_type": "code",
   "execution_count": 18,
   "id": "fancy-finance",
   "metadata": {},
   "outputs": [
    {
     "name": "stdout",
     "output_type": "stream",
     "text": [
      "생일을 입력해주세요 yymmdd :961026\n",
      "생일이 pi안에 있습니다.\n",
      "357182번째부터 있으며, 생일 앞뒤 5자리씩을 더 출력하면 128459610269014입니다.\n"
     ]
    }
   ],
   "source": [
    "# 파이에서 내 생일 찾기\n",
    "filepath = 'inoutdata/mpidigits.txt'\n",
    "\n",
    "with open(filepath) as infile:\n",
    "    lines = infile.readlines()\n",
    "    \n",
    "piString = ''\n",
    "for line in lines:\n",
    "    piString += line.rstrip()\n",
    "    \n",
    "birthday = input(\"생일을 입력해주세요 yymmdd :\")\n",
    "if birthday in piString:\n",
    "    print(\"생일이 pi안에 있습니다.\")\n",
    "else:\n",
    "    print(\"생일이 pi안에 없습니다.\")\n",
    "    \n",
    "idx = piString.index(birthday)\n",
    "start = idx - 5\n",
    "end = idx + 10\n",
    "print(f\"{idx}번째부터 있으며, 생일 앞뒤 5자리씩을 더 출력하면 {piString[start:end]}입니다.\")"
   ]
  },
  {
   "cell_type": "code",
   "execution_count": 21,
   "id": "coastal-clone",
   "metadata": {},
   "outputs": [],
   "source": [
    "# 파일에 쓰기\n",
    "filepath = 'inoutdata/output.txt'\n",
    "\n",
    "# access mode : w : write(기존에 있던것을 삭제하고 덮어씌움) / a : append(기존에 추가함) / r : read(기본. 따로 적지 않으면 r이 적용됨)\n",
    "with open(filepath, 'w') as outfile:\n",
    "    outfile.write('I like C++.\\n')\n",
    "    outfile.write('I love programming.\\n')"
   ]
  },
  {
   "cell_type": "code",
   "execution_count": 22,
   "id": "detected-watch",
   "metadata": {},
   "outputs": [
    {
     "name": "stdout",
     "output_type": "stream",
     "text": [
      "Divide by Zero!\n"
     ]
    }
   ],
   "source": [
    "# 예외 처리하기\n",
    "# try - except 블록\n",
    "try:\n",
    "    print(5/0)\n",
    "\n",
    "except ZeroDivisionError:\n",
    "    print(\"Divide by Zero!\")"
   ]
  },
  {
   "cell_type": "code",
   "execution_count": 25,
   "id": "informed-facial",
   "metadata": {
    "scrolled": true
   },
   "outputs": [
    {
     "name": "stdout",
     "output_type": "stream",
     "text": [
      "두 개의 숫자를 입력해 주세요\n",
      "그만두려면 q를 입력하세요\n",
      "첫 번째 숫자는? 10\n",
      "두 번째 숫자는? 4\n",
      "2.5\n",
      "첫 번째 숫자는? 5\n",
      "두 번째 숫자는? 0\n",
      "0으로 나누려고 하고 있습니다.\n"
     ]
    }
   ],
   "source": [
    "# if 구문 사용, 오류 사용 회피\n",
    "\n",
    "print(\"두 개의 숫자를 입력해 주세요\")\n",
    "print(\"그만두려면 q를 입력하세요\")\n",
    "\n",
    "while True:\n",
    "    first = input(\"첫 번째 숫자는? \")\n",
    "    if first == 'q' :\n",
    "        break\n",
    "    second = input(\"두 번째 숫자는? \")\n",
    "    if second == 'q':\n",
    "        break\n",
    "        \n",
    "    if int(second) == 0:\n",
    "        print(\"0으로 나누려고 하고 있습니다.\")\n",
    "        break\n",
    "        \n",
    "    answer = int(first) / int(second)\n",
    "    print(answer)"
   ]
  },
  {
   "cell_type": "code",
   "execution_count": 29,
   "id": "sixth-constant",
   "metadata": {},
   "outputs": [
    {
     "name": "stdout",
     "output_type": "stream",
     "text": [
      "두 개의 숫자를 입력해 주세요\n",
      "그만두려면 q를 입력하세요\n",
      "첫 번째 숫자는? 10\n",
      "두 번째 숫자는? 0\n",
      "0으로 나누는 오류가 발생했습니다.\n",
      "첫 번째 숫자는? 5\n",
      "두 번째 숫자는? 4\n",
      "1.25\n",
      "첫 번째 숫자는? q\n"
     ]
    }
   ],
   "source": [
    "# try-except-else 사용, 오류 회피 및 정상 처리\n",
    "\n",
    "print(\"두 개의 숫자를 입력해 주세요\")\n",
    "print(\"그만두려면 q를 입력하세요\")\n",
    "\n",
    "while True:\n",
    "    first = input(\"첫 번째 숫자는? \")\n",
    "    if first == 'q' :\n",
    "        break\n",
    "    second = input(\"두 번째 숫자는? \")\n",
    "    if second == 'q':\n",
    "        break\n",
    "    \n",
    "    try:\n",
    "        answer = int(first) / int(second)\n",
    "    \n",
    "    except ZeroDivisionError:\n",
    "        print(\"0으로 나누는 오류가 발생했습니다.\")\n",
    "    \n",
    "    else:\n",
    "        print(answer)"
   ]
  },
  {
   "cell_type": "code",
   "execution_count": 34,
   "id": "approved-evans",
   "metadata": {},
   "outputs": [
    {
     "name": "stdout",
     "output_type": "stream",
     "text": [
      "alice.txt 파일이 존재하지 않습니다.\n"
     ]
    }
   ],
   "source": [
    "# FileNotFoundError 예외 상황 처리\n",
    "\n",
    "filename = 'alice.txt'\n",
    "\n",
    "try:\n",
    "    with open(filename) as f:\n",
    "        contents = f.read()\n",
    "    \n",
    "except FileNotFoundError:\n",
    "    print(f\"{filename} 파일이 존재하지 않습니다.\")\n",
    "else:\n",
    "    print(contents)"
   ]
  },
  {
   "cell_type": "code",
   "execution_count": 37,
   "id": "convinced-cheese",
   "metadata": {},
   "outputs": [
    {
     "name": "stdout",
     "output_type": "stream",
     "text": [
      "3.1415926535\n",
      "  897932846\n",
      "  2643383279\n"
     ]
    }
   ],
   "source": [
    "filename = 'inoutdata/pidigits.txt'\n",
    "\n",
    "try:\n",
    "    with open(filename) as f:\n",
    "        contents = f.read()\n",
    "    \n",
    "except FileNotFoundError:\n",
    "    print(f\"{filename} 파일이 존재하지 않습니다.\")\n",
    "else:\n",
    "    print(contents)"
   ]
  },
  {
   "cell_type": "code",
   "execution_count": 40,
   "id": "unauthorized-ethernet",
   "metadata": {},
   "outputs": [
    {
     "name": "stdout",
     "output_type": "stream",
     "text": [
      "파일은 약 17842개의 단어를 포함하고 있습니다.\n"
     ]
    }
   ],
   "source": [
    "# 텍스트 분석\n",
    "\n",
    "filename = 'inoutdata/alice.txt'\n",
    "\n",
    "try:\n",
    "    with open(filename) as f:\n",
    "        contents = f.read()\n",
    "    \n",
    "except FileNotFoundError:\n",
    "    print(f\"파일이 존재하지 않습니다.\")\n",
    "else:\n",
    "    words = contents.split()\n",
    "    num_words = len(words)\n",
    "    print(f\"파일은 약 {num_words}개의 단어를 포함하고 있습니다.\")"
   ]
  },
  {
   "cell_type": "code",
   "execution_count": 43,
   "id": "accepted-accounting",
   "metadata": {},
   "outputs": [
    {
     "name": "stdout",
     "output_type": "stream",
     "text": [
      "파일은 약 17842개의 단어를 포함하고 있습니다.\n",
      "파일은 약 33704개의 단어를 포함하고 있습니다.\n"
     ]
    }
   ],
   "source": [
    "# 여러 파일 다루기\n",
    "\n",
    "def count_words(filename):\n",
    "    try:\n",
    "        with open(filename, encoding = 'utf-8') as f:\n",
    "            contents = f.read()\n",
    "    \n",
    "    except FileNotFoundError:\n",
    "        print(f\"파일이 존재하지 않습니다.\")\n",
    "    else:\n",
    "        words = contents.split()\n",
    "        num_words = len(words)\n",
    "        print(f\"파일은 약 {num_words}개의 단어를 포함하고 있습니다.\")\n",
    "        \n",
    "filenames = ['inoutdata/alice.txt', 'inoutdata/uncletom.txt']\n",
    "for filename in filenames:\n",
    "    count_words(filename)"
   ]
  },
  {
   "cell_type": "code",
   "execution_count": 45,
   "id": "suspected-glucose",
   "metadata": {},
   "outputs": [],
   "source": [
    "# 데이터 저장과 재사용\n",
    "\n",
    "import json\n",
    "\n",
    "numbers = [1,2,3,4,5,6,7,8,9,10]\n",
    "\n",
    "filename = 'inoutdata/numbers.json'\n",
    "with open(filename, 'w') as outf:\n",
    "    json.dump(numbers, outf)"
   ]
  },
  {
   "cell_type": "code",
   "execution_count": 46,
   "id": "loving-elements",
   "metadata": {},
   "outputs": [
    {
     "name": "stdout",
     "output_type": "stream",
     "text": [
      "[1, 2, 3, 4, 5, 6, 7, 8, 9, 10]\n"
     ]
    }
   ],
   "source": [
    "with open(filename) as inf:\n",
    "    rnumbers = json.load(inf)\n",
    "    \n",
    "print(rnumbers)"
   ]
  },
  {
   "cell_type": "code",
   "execution_count": null,
   "id": "statistical-combining",
   "metadata": {},
   "outputs": [],
   "source": [
    "# 연습문제 10-3\n",
    "\n",
    "print(\"이름을 입력해 주세요. \")\n"
   ]
  }
 ],
 "metadata": {
  "kernelspec": {
   "display_name": "Python 3",
   "language": "python",
   "name": "python3"
  },
  "language_info": {
   "codemirror_mode": {
    "name": "ipython",
    "version": 3
   },
   "file_extension": ".py",
   "mimetype": "text/x-python",
   "name": "python",
   "nbconvert_exporter": "python",
   "pygments_lexer": "ipython3",
   "version": "3.8.7"
  }
 },
 "nbformat": 4,
 "nbformat_minor": 5
}
