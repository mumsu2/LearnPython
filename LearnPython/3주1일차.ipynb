{
 "cells": [
  {
   "cell_type": "code",
   "execution_count": 2,
   "id": "executive-trainer",
   "metadata": {},
   "outputs": [],
   "source": [
    "# 딕셔너리 정의(생성) - 키와 값의 연관associative에 의한 접근\n",
    "student1 = {'name':'홍길동', 'adress':'청주시 상당구'}\n",
    "student2 = {'name':'갑순이', 'adress':'청주시 흥덕구'}"
   ]
  },
  {
   "cell_type": "code",
   "execution_count": 3,
   "id": "looking-exchange",
   "metadata": {},
   "outputs": [
    {
     "data": {
      "text/plain": [
       "'홍길동'"
      ]
     },
     "execution_count": 3,
     "metadata": {},
     "output_type": "execute_result"
    }
   ],
   "source": [
    "student1['name']"
   ]
  },
  {
   "cell_type": "code",
   "execution_count": 4,
   "id": "higher-saver",
   "metadata": {},
   "outputs": [],
   "source": [
    "student1['phone'] = '010-1234-4567' # 딕셔너리에 새로운 키&값 쌍 추가"
   ]
  },
  {
   "cell_type": "code",
   "execution_count": 5,
   "id": "permanent-devil",
   "metadata": {},
   "outputs": [
    {
     "name": "stdout",
     "output_type": "stream",
     "text": [
      "{'name': '홍길동', 'adress': '청주시 상당구', 'phone': '010-1234-4567'}\n"
     ]
    }
   ],
   "source": [
    "print(student1)"
   ]
  },
  {
   "cell_type": "code",
   "execution_count": 6,
   "id": "ahead-jurisdiction",
   "metadata": {},
   "outputs": [],
   "source": [
    "student1['adress'] = '청주시 서원구'"
   ]
  },
  {
   "cell_type": "code",
   "execution_count": 7,
   "id": "ranking-employer",
   "metadata": {},
   "outputs": [
    {
     "name": "stdout",
     "output_type": "stream",
     "text": [
      "{'name': '홍길동', 'adress': '청주시 서원구', 'phone': '010-1234-4567'}\n"
     ]
    }
   ],
   "source": [
    "print(student1)"
   ]
  },
  {
   "cell_type": "code",
   "execution_count": 9,
   "id": "inside-america",
   "metadata": {},
   "outputs": [],
   "source": [
    "del student1['adress']"
   ]
  },
  {
   "cell_type": "code",
   "execution_count": 11,
   "id": "super-douglas",
   "metadata": {},
   "outputs": [
    {
     "name": "stdout",
     "output_type": "stream",
     "text": [
      "{'name': '홍길동', 'phone': '010-1234-4567'}\n"
     ]
    }
   ],
   "source": [
    "print(student1)"
   ]
  },
  {
   "cell_type": "code",
   "execution_count": 12,
   "id": "departmental-auction",
   "metadata": {},
   "outputs": [
    {
     "name": "stdout",
     "output_type": "stream",
     "text": [
      "adress 키는 삭제되었습니다.\n"
     ]
    }
   ],
   "source": [
    "# result = student1['adress']\n",
    "result = student1.get('adress', 'adress 키는 삭제되었습니다.') # 오류를 방지하고, 키가 없을 때는 지정된 값을 변환하도록 한다.\n",
    "print(result)"
   ]
  },
  {
   "cell_type": "code",
   "execution_count": 15,
   "id": "formed-harvest",
   "metadata": {},
   "outputs": [
    {
     "name": "stdout",
     "output_type": "stream",
     "text": [
      "\n",
      "key: name\n",
      "value: 홍길동\n",
      "\n",
      "key: phone\n",
      "value: 010-1234-4567\n"
     ]
    }
   ],
   "source": [
    "for key, value in student1.items():\n",
    "    print(f\"\\nkey: {key}\")\n",
    "    print(f\"value: {value}\")"
   ]
  },
  {
   "cell_type": "code",
   "execution_count": 16,
   "id": "noticed-swiss",
   "metadata": {},
   "outputs": [
    {
     "name": "stdout",
     "output_type": "stream",
     "text": [
      "\n",
      "key: name\n",
      "value: 갑순이\n",
      "\n",
      "key: adress\n",
      "value: 청주시 흥덕구\n"
     ]
    }
   ],
   "source": [
    "for key, value in student2.items(): # keys\n",
    "    print(f\"\\nkey: {key}\")\n",
    "    print(f\"value: {value}\")"
   ]
  },
  {
   "cell_type": "code",
   "execution_count": 24,
   "id": "acquired-powder",
   "metadata": {},
   "outputs": [
    {
     "name": "stdout",
     "output_type": "stream",
     "text": [
      "\n",
      "Jen's favorite_languages are:\n",
      "\tPython\n",
      "\tRuby\n",
      "\n",
      "Sarah's favorite_languages are:\n",
      "\tC\n",
      "\n",
      "Edward's favorite_languages are:\n",
      "\tRuby\n",
      "\tGo\n",
      "\n",
      "Phil's favorite_languages are:\n",
      "\tPython\n",
      "\tJava\n"
     ]
    }
   ],
   "source": [
    "favorite_languages = {\n",
    "    'jen' : ['python', 'ruby'],\n",
    "    'sarah' : ['c'],\n",
    "    'edward' : ['ruby', 'go'],\n",
    "    'phil' : ['python', 'java'],\n",
    "}\n",
    "\n",
    "for name, languages in favorite_languages.items():\n",
    "    print(f\"\\n{name.title()}'s favorite_languages are:\")\n",
    "    for language in languages:\n",
    "        print(f\"\\t{language.title()}\")"
   ]
  },
  {
   "cell_type": "code",
   "execution_count": 26,
   "id": "ordered-registration",
   "metadata": {},
   "outputs": [
    {
     "name": "stdout",
     "output_type": "stream",
     "text": [
      "반복할 횟수를 입력해주세요1\n",
      "0 번째 실행\n",
      "반복 종료 후 i 값은 1\n"
     ]
    }
   ],
   "source": [
    "cnt = int(input(\"반복할 횟수를 입력해주세요\"))\n",
    "i = 0\n",
    "while i < cnt :\n",
    "    print(i, \"번째 실행\")\n",
    "    i = i + 1\n",
    "\n",
    "print(\"반복 종료 후 i 값은\", i)\n",
    "    "
   ]
  },
  {
   "cell_type": "code",
   "execution_count": 27,
   "id": "informative-artist",
   "metadata": {},
   "outputs": [
    {
     "name": "stdout",
     "output_type": "stream",
     "text": [
      "1\n",
      "2\n",
      "3\n",
      "4\n",
      "5\n"
     ]
    }
   ],
   "source": [
    "number = 1\n",
    "while number <= 5:\n",
    "    print(number)\n",
    "    number += 1"
   ]
  },
  {
   "cell_type": "code",
   "execution_count": 34,
   "id": "patient-hazard",
   "metadata": {},
   "outputs": [
    {
     "name": "stdout",
     "output_type": "stream",
     "text": [
      "작업번호를 입력해주세요.0을 입력하면 종료합니다. 5\n",
      "작업번호를 입력해주세요.0을 입력하면 종료합니다. 6\n",
      "작업번호를 입력해주세요.0을 입력하면 종료합니다. 0\n",
      "프로그램을 종료합니다.\n"
     ]
    }
   ],
   "source": [
    "job = 999\n",
    "while job != 0:\n",
    "    job = int(input(\"작업번호를 입력해주세요.0을 입력하면 종료합니다. \"))\n",
    "        \n",
    "print(\"프로그램을 종료합니다.\")"
   ]
  },
  {
   "cell_type": "code",
   "execution_count": 40,
   "id": "excited-affiliation",
   "metadata": {},
   "outputs": [
    {
     "name": "stdout",
     "output_type": "stream",
     "text": [
      "주호\n",
      "재은\n",
      "지은\n",
      "정호\n",
      "동진\n",
      "용주\n"
     ]
    }
   ],
   "source": [
    "unconfirmed_users = ['용주', '동진', '정호', '지은', '재은', '주호']\n",
    "confirmed_users =[]\n",
    "\n",
    "while unconfirmed_users:\n",
    "    current_user = unconfirmed_users.pop()\n",
    "    confirmed_users.append(current_user)\n",
    "\n",
    "for confirmed_user in confirmed_users:\n",
    "    print(confirmed_user)"
   ]
  },
  {
   "cell_type": "code",
   "execution_count": 44,
   "id": "christian-aquatic",
   "metadata": {},
   "outputs": [
    {
     "name": "stdout",
     "output_type": "stream",
     "text": [
      "Is car == 'subaru'? I predict True.\n",
      "True\n",
      "\n",
      "Is car == 'audi'? I predict False.\n",
      "False\n",
      "\n",
      "Is car == hyundai? I predict False.\n",
      "False\n"
     ]
    }
   ],
   "source": [
    "car = 'subaru'\n",
    "print(\"Is car == 'subaru'? I predict True.\")\n",
    "print(car == 'subaru')\n",
    "print(\"\\nIs car == 'audi'? I predict False.\")\n",
    "print(car == 'audi')\n",
    "print(\"\\nIs car == hyundai? I predict False.\")\n",
    "print(car == 'hyundai')"
   ]
  },
  {
   "cell_type": "code",
   "execution_count": 51,
   "id": "natural-world",
   "metadata": {},
   "outputs": [
    {
     "name": "stdout",
     "output_type": "stream",
     "text": [
      "5점 획득\n",
      "10점 획득\n"
     ]
    }
   ],
   "source": [
    "alien_color = ['green', 'yellow', 'red']\n",
    "if 'green' in alien_color:\n",
    "    print(\"5점 획득\")\n",
    "if 'yellow' in alien_color:\n",
    "    print(\"10점 획득\")\n",
    "else:\n",
    "    print(\"20점 획득\")"
   ]
  },
  {
   "cell_type": "code",
   "execution_count": 58,
   "id": "severe-mount",
   "metadata": {},
   "outputs": [
    {
     "name": "stdout",
     "output_type": "stream",
     "text": [
      "노인\n"
     ]
    }
   ],
   "source": [
    "age = 66\n",
    "if age < 2:\n",
    "    print(\"영아\")\n",
    "elif age < 4:\n",
    "    print(\"유아\")\n",
    "elif age < 13:\n",
    "    print(\"아이\")\n",
    "elif age < 20:\n",
    "    print(\"청소년\")\n",
    "elif age < 65:\n",
    "    print(\"성인\")\n",
    "else:\n",
    "    print(\"노인\")"
   ]
  },
  {
   "cell_type": "code",
   "execution_count": 64,
   "id": "generic-springfield",
   "metadata": {},
   "outputs": [
    {
     "name": "stdout",
     "output_type": "stream",
     "text": [
      "The Han runs through Korea.\n",
      "The Nile runs through Egypt.\n",
      "The Jang runs through China.\n"
     ]
    }
   ],
   "source": [
    "big_rivers = {\n",
    "    'Han' : 'Korea',\n",
    "    'Nile' : 'Egypt',\n",
    "    'Jang' : 'China'\n",
    "}\n",
    "\n",
    "for name, river in big_rivers.items():\n",
    "    print(f\"The {name.title()} runs through {river.title()}.\")"
   ]
  }
 ],
 "metadata": {
  "kernelspec": {
   "display_name": "Python 3",
   "language": "python",
   "name": "python3"
  },
  "language_info": {
   "codemirror_mode": {
    "name": "ipython",
    "version": 3
   },
   "file_extension": ".py",
   "mimetype": "text/x-python",
   "name": "python",
   "nbconvert_exporter": "python",
   "pygments_lexer": "ipython3",
   "version": "3.9.1"
  }
 },
 "nbformat": 4,
 "nbformat_minor": 5
}
