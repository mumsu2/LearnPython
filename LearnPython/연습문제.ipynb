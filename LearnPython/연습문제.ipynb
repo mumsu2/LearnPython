{
 "cells": [
  {
   "cell_type": "code",
   "execution_count": 6,
   "id": "attended-berry",
   "metadata": {},
   "outputs": [
    {
     "name": "stdout",
     "output_type": "stream",
     "text": [
      "hello\n"
     ]
    }
   ],
   "source": [
    "# 연습문제 2-1\n",
    "\n",
    "message = ('hello')\n",
    "print(message)"
   ]
  },
  {
   "cell_type": "code",
   "execution_count": 7,
   "id": "conscious-uncle",
   "metadata": {},
   "outputs": [
    {
     "name": "stdout",
     "output_type": "stream",
     "text": [
      "hello\n",
      "Hi\n"
     ]
    }
   ],
   "source": [
    "# 연습문제 2-2\n",
    "\n",
    "message = ('hello')\n",
    "print(message)\n",
    "message = ('Hi')\n",
    "print(message)"
   ]
  },
  {
   "cell_type": "code",
   "execution_count": 9,
   "id": "metric-devices",
   "metadata": {},
   "outputs": [
    {
     "name": "stdout",
     "output_type": "stream",
     "text": [
      "\"Hellow JungHo, would you like to learn some Python today?\"\n"
     ]
    }
   ],
   "source": [
    "# 연습문제 2-3\n",
    "\n",
    "jungho = ('\"Hellow JungHo, would you like to learn some Python today?\"')\n",
    "print(jungho)"
   ]
  },
  {
   "cell_type": "code",
   "execution_count": 10,
   "id": "level-miracle",
   "metadata": {},
   "outputs": [
    {
     "name": "stdout",
     "output_type": "stream",
     "text": [
      "heungmin\n",
      "HEUNGMIN\n",
      "Heungmin\n"
     ]
    }
   ],
   "source": [
    "# 연습문제 2-4\n",
    "\n",
    "son = ('heungmin')\n",
    "print(son)\n",
    "son = ('HEUNGMIN')\n",
    "print(son)\n",
    "son = ('Heungmin')\n",
    "print(son)"
   ]
  },
  {
   "cell_type": "code",
   "execution_count": 11,
   "id": "jewish-feeding",
   "metadata": {},
   "outputs": [
    {
     "name": "stdout",
     "output_type": "stream",
     "text": [
      "Albert Einstein once said, \"A person who never made a mistake never tried anything new.\"\n",
      "Albert Einstein\n"
     ]
    }
   ],
   "source": [
    "# 연습문제 2-5\n",
    "\n",
    "print('Albert Einstein once said, \"A person who never made a mistake never tried anything new.\"')\n",
    "print('Albert Einstein')"
   ]
  },
  {
   "cell_type": "code",
   "execution_count": 12,
   "id": "apart-extent",
   "metadata": {},
   "outputs": [
    {
     "name": "stdout",
     "output_type": "stream",
     "text": [
      "Albert Einstein\n",
      "\"A person who never made a mistake never tried anything new.\"\n"
     ]
    }
   ],
   "source": [
    "# 연습문제 2-6\n",
    "\n",
    "famous_person = ('Albert Einstein')\n",
    "message = ('\"A person who never made a mistake never tried anything new.\"')\n",
    "print(famous_person)\n",
    "print(message)"
   ]
  },
  {
   "cell_type": "code",
   "execution_count": 16,
   "id": "needed-environment",
   "metadata": {},
   "outputs": [
    {
     "name": "stdout",
     "output_type": "stream",
     "text": [
      "공백 그대로:\n",
      "\t이 정호\n",
      "\n",
      "\n",
      "Using lstrip():\n",
      "이 정호\n",
      "\n",
      "\n",
      "Using rstrip():\n",
      "\t이 정호\n",
      "\n",
      "Using strip():\n",
      "이 정호\n"
     ]
    }
   ],
   "source": [
    "# 연습문제 2-7\n",
    "\n",
    "name = ('\\t이 정호\\n')\n",
    "\n",
    "print(\"공백 그대로:\")\n",
    "print(name)\n",
    "\n",
    "\n",
    "print(\"\\nUsing lstrip():\")\n",
    "print(name.lstrip())\n",
    "\n",
    "print(\"\\nUsing rstrip():\")\n",
    "print(name.rstrip())\n",
    "\n",
    "print(\"\\nUsing strip():\")\n",
    "print(name.strip())"
   ]
  },
  {
   "cell_type": "code",
   "execution_count": 18,
   "id": "satisfied-abuse",
   "metadata": {},
   "outputs": [
    {
     "name": "stdout",
     "output_type": "stream",
     "text": [
      "8\n",
      "8\n",
      "8\n",
      "8.0\n"
     ]
    }
   ],
   "source": [
    "# 연습문제 2-8\n",
    "\n",
    "print(4 + 4)\n",
    "print(4 * 2)\n",
    "print(13 - 5)\n",
    "print(16 / 2)"
   ]
  },
  {
   "cell_type": "code",
   "execution_count": 21,
   "id": "preliminary-liverpool",
   "metadata": {},
   "outputs": [
    {
     "name": "stdout",
     "output_type": "stream",
     "text": [
      "My favorite number is 7.\n"
     ]
    }
   ],
   "source": [
    "# 연습문제 2-9\n",
    "\n",
    "fvr_number = 7\n",
    "msg = \"My favorite number is \" + str(fvr_number) + \".\"\n",
    "print(msg)"
   ]
  },
  {
   "cell_type": "code",
   "execution_count": 1,
   "id": "right-pension",
   "metadata": {},
   "outputs": [
    {
     "name": "stdout",
     "output_type": "stream",
     "text": [
      "The Zen of Python, by Tim Peters\n",
      "\n",
      "Beautiful is better than ugly.\n",
      "Explicit is better than implicit.\n",
      "Simple is better than complex.\n",
      "Complex is better than complicated.\n",
      "Flat is better than nested.\n",
      "Sparse is better than dense.\n",
      "Readability counts.\n",
      "Special cases aren't special enough to break the rules.\n",
      "Although practicality beats purity.\n",
      "Errors should never pass silently.\n",
      "Unless explicitly silenced.\n",
      "In the face of ambiguity, refuse the temptation to guess.\n",
      "There should be one-- and preferably only one --obvious way to do it.\n",
      "Although that way may not be obvious at first unless you're Dutch.\n",
      "Now is better than never.\n",
      "Although never is often better than *right* now.\n",
      "If the implementation is hard to explain, it's a bad idea.\n",
      "If the implementation is easy to explain, it may be a good idea.\n",
      "Namespaces are one honking great idea -- let's do more of those!\n"
     ]
    }
   ],
   "source": [
    "# 연습문제 2-11\n",
    "\n",
    "import this"
   ]
  },
  {
   "cell_type": "code",
   "execution_count": 2,
   "id": "composed-helena",
   "metadata": {},
   "outputs": [
    {
     "name": "stdout",
     "output_type": "stream",
     "text": [
      "찰리\n",
      "스누피\n"
     ]
    }
   ],
   "source": [
    "# 연습문제 3-1\n",
    "\n",
    "names = ['찰리', '스누피']\n",
    "\n",
    "print(names[0])\n",
    "print(names[1])"
   ]
  },
  {
   "cell_type": "code",
   "execution_count": 5,
   "id": "peaceful-journalism",
   "metadata": {},
   "outputs": [
    {
     "name": "stdout",
     "output_type": "stream",
     "text": [
      "찰리는 파이썬을 배우고 있어.\n",
      "스누피는 파이썬을 배우고 있어.\n"
     ]
    }
   ],
   "source": [
    "# 연습문제 3-2\n",
    "\n",
    "names = ['찰리', '스누피']\n",
    "message = f\"{names[0].title()}는 파이썬을 배우고 있어.\"\n",
    "print(message)\n",
    "message = f\"{names[1].title()}는 파이썬을 배우고 있어.\"\n",
    "print(message)"
   ]
  },
  {
   "cell_type": "code",
   "execution_count": 7,
   "id": "fatal-standard",
   "metadata": {},
   "outputs": [
    {
     "name": "stdout",
     "output_type": "stream",
     "text": [
      "A4는 아우디에서 만들었어.\n",
      "타이칸은 포르쉐에서 만들었어\n"
     ]
    }
   ],
   "source": [
    "# 연습문제 3-3\n",
    "\n",
    "cars = ['아우디', 'BMW', '포르쉐']\n",
    "\n",
    "msg = f\"A4는 {cars[0].title()}에서 만들었어.\"\n",
    "print(msg)\n",
    "\n",
    "msg = f\"타이칸은 {cars[2].title()}에서 만들었어\"\n",
    "print(msg)"
   ]
  },
  {
   "cell_type": "code",
   "execution_count": 11,
   "id": "earlier-bonus",
   "metadata": {},
   "outputs": [
    {
     "name": "stdout",
     "output_type": "stream",
     "text": [
      "성민, 저녁 먹으러 와\n",
      "준규, 저녁 먹으러 와\n",
      "훈규, 저녁 먹으러 와\n"
     ]
    }
   ],
   "source": [
    "# 연습문제 3-4\n",
    "\n",
    "guests = ['성민', '준규', '훈규']\n",
    "\n",
    "name = guests[0].title()\n",
    "print(name + \", 저녁 먹으러 와\")\n",
    "\n",
    "name = guests[1].title()\n",
    "print(name + \", 저녁 먹으러 와\")\n",
    "\n",
    "name = guests[2].title()\n",
    "print(name + \", 저녁 먹으러 와\")"
   ]
  },
  {
   "cell_type": "code",
   "execution_count": 13,
   "id": "looking-wallet",
   "metadata": {},
   "outputs": [
    {
     "name": "stdout",
     "output_type": "stream",
     "text": [
      "성민, 저녁 먹으러 와\n",
      "준규, 저녁 먹으러 와\n",
      "훈규, 저녁 먹으러 와\n",
      "\n",
      "미안,성민이는 못온다는데.\n",
      "\n",
      "서현, 저녁 먹으러 와.\n",
      "준규, 저녁 먹으러 와.\n",
      "훈규, 저녁 먹으러 와.\n"
     ]
    }
   ],
   "source": [
    "# 연습문제 3-5\n",
    "\n",
    "guests = ['성민', '준규', '훈규']\n",
    "\n",
    "name = guests[0].title()\n",
    "print(name + \", 저녁 먹으러 와\")\n",
    "\n",
    "name = guests[1].title()\n",
    "print(name + \", 저녁 먹으러 와\")\n",
    "\n",
    "name = guests[2].title()\n",
    "print(name + \", 저녁 먹으러 와\")\n",
    "\n",
    "\n",
    "name = guests[0].title()\n",
    "print(\"\\n미안,\" + name + \"이는 못온다는데.\" )\n",
    "\n",
    "guests[0] = '서현'\n",
    "\n",
    "name = guests[0].title()\n",
    "print(\"\\n\" + name + \", 저녁 먹으러 와.\")\n",
    "\n",
    "name = guests[1].title()\n",
    "print(name + \", 저녁 먹으러 와.\")\n",
    "\n",
    "name = guests[2].title()\n",
    "print(name + \", 저녁 먹으러 와.\")"
   ]
  },
  {
   "cell_type": "code",
   "execution_count": 15,
   "id": "tough-wyoming",
   "metadata": {},
   "outputs": [
    {
     "name": "stdout",
     "output_type": "stream",
     "text": [
      "성민, 저녁 먹으러 와\n",
      "준규, 저녁 먹으러 와\n",
      "훈규, 저녁 먹으러 와\n",
      "\n",
      "미안,성민이는 못온다는데.\n",
      "\n",
      "서현, 저녁 먹으러 와.\n",
      "준규, 저녁 먹으러 와.\n",
      "훈규, 저녁 먹으러 와.\n",
      "강원, 저녁 먹으러 와.\n",
      "민수, 저녁 먹으러 와.\n",
      "시안, 저녁 먹으러 와.\n"
     ]
    }
   ],
   "source": [
    "# 연습문제 3-6\n",
    "\n",
    "guests = ['성민', '준규', '훈규']\n",
    "\n",
    "name = guests[0].title()\n",
    "print(name + \", 저녁 먹으러 와\")\n",
    "\n",
    "name = guests[1].title()\n",
    "print(name + \", 저녁 먹으러 와\")\n",
    "\n",
    "name = guests[2].title()\n",
    "print(name + \", 저녁 먹으러 와\")\n",
    "\n",
    "\n",
    "name = guests[0].title()\n",
    "print(\"\\n미안,\" + name + \"이는 못온다는데.\" )\n",
    "\n",
    "guests[0] = '서현'\n",
    "\n",
    "name = guests[0].title()\n",
    "print(\"\\n\" + name + \", 저녁 먹으러 와.\")\n",
    "\n",
    "name = guests[1].title()\n",
    "print(name + \", 저녁 먹으러 와.\")\n",
    "\n",
    "name = guests[2].title()\n",
    "print(name + \", 저녁 먹으러 와.\")\n",
    "\n",
    "guests.insert(0, '강원')\n",
    "guests.insert(2, '민수')\n",
    "guests.append('시안')\n",
    "\n",
    "name = guests[0].title()\n",
    "print(name + \", 저녁 먹으러 와.\")\n",
    "\n",
    "name = guests[2].title()\n",
    "print(name + \", 저녁 먹으러 와.\")\n",
    "\n",
    "name = guests[5].title()\n",
    "print(name + \", 저녁 먹으러 와.\")"
   ]
  },
  {
   "cell_type": "code",
   "execution_count": 28,
   "id": "graphic-minneapolis",
   "metadata": {},
   "outputs": [
    {
     "name": "stdout",
     "output_type": "stream",
     "text": [
      "성민, 저녁 먹으러 와\n",
      "준규, 저녁 먹으러 와\n",
      "훈규, 저녁 먹으러 와\n",
      "\n",
      "미안,성민이는 못온다는데.\n",
      "\n",
      "서현, 저녁 먹으러 와.\n",
      "준규, 저녁 먹으러 와.\n",
      "훈규, 저녁 먹으러 와.\n",
      "강원, 저녁 먹으러 와.\n",
      "민수, 저녁 먹으러 와.\n",
      "시안, 저녁 먹으러 와.\n",
      "\n",
      "미안, 두 명만 초대할게\n",
      "미안, 시안. 자리가 없어.\n",
      "미안, 훈규. 자리가 없어.\n",
      "미안, 준규. 자리가 없어.\n",
      "미안, 민수. 자리가 없어.\n",
      "['강원', '서현']\n",
      "\n",
      "강원, 저녁 먹으러 와.\n",
      "서현, 저녁 먹으러 와.\n",
      "[]\n"
     ]
    }
   ],
   "source": [
    "# 연습문제 3-7\n",
    "\n",
    "guests = ['성민', '준규', '훈규']\n",
    "\n",
    "name = guests[0].title()\n",
    "print(name + \", 저녁 먹으러 와\")\n",
    "\n",
    "name = guests[1].title()\n",
    "print(name + \", 저녁 먹으러 와\")\n",
    "\n",
    "name = guests[2].title()\n",
    "print(name + \", 저녁 먹으러 와\")\n",
    "\n",
    "\n",
    "name = guests[0].title()\n",
    "print(\"\\n미안,\" + name + \"이는 못온다는데.\" )\n",
    "\n",
    "guests[0] = '서현'\n",
    "\n",
    "name = guests[0].title()\n",
    "print(\"\\n\" + name + \", 저녁 먹으러 와.\")\n",
    "\n",
    "name = guests[1].title()\n",
    "print(name + \", 저녁 먹으러 와.\")\n",
    "\n",
    "name = guests[2].title()\n",
    "print(name + \", 저녁 먹으러 와.\")\n",
    "\n",
    "guests.insert(0, '강원')\n",
    "guests.insert(2, '민수')\n",
    "guests.append('시안')\n",
    "\n",
    "name = guests[0].title()\n",
    "print(name + \", 저녁 먹으러 와.\")\n",
    "\n",
    "name = guests[2].title()\n",
    "print(name + \", 저녁 먹으러 와.\")\n",
    "\n",
    "name = guests[5].title()\n",
    "print(name + \", 저녁 먹으러 와.\")\n",
    "\n",
    "print('\\n미안, 두 명만 초대할게')\n",
    "\n",
    "name = guests.pop()\n",
    "print(\"미안, \" + name.title() + \". 자리가 없어.\")\n",
    "\n",
    "name = guests.pop()\n",
    "print(\"미안, \" + name.title() + \". 자리가 없어.\")\n",
    "\n",
    "name = guests.pop()\n",
    "print(\"미안, \" + name.title() + \". 자리가 없어.\")\n",
    "\n",
    "name = guests.pop()\n",
    "print(\"미안, \" + name.title() + \". 자리가 없어.\")\n",
    "\n",
    "print(guests)\n",
    "\n",
    "name = guests[0].title()\n",
    "print(\"\\n\" + name + \", 저녁 먹으러 와.\")\n",
    "\n",
    "name = guests[1].title()\n",
    "print(name + \", 저녁 먹으러 와.\")\n",
    "\n",
    "del guests[0]\n",
    "del guests[0]\n",
    "print(guests)"
   ]
  },
  {
   "cell_type": "code",
   "execution_count": 12,
   "id": "municipal-mustang",
   "metadata": {},
   "outputs": [
    {
     "name": "stdout",
     "output_type": "stream",
     "text": [
      "['뉴욕', '플로리다', '뮌헨', '마드리드', '런던']\n",
      "['뉴욕', '런던', '마드리드', '뮌헨', '플로리다']\n",
      "['뉴욕', '플로리다', '뮌헨', '마드리드', '런던']\n",
      "['플로리다', '뮌헨', '마드리드', '런던', '뉴욕']\n",
      "['뉴욕', '플로리다', '뮌헨', '마드리드', '런던']\n",
      "['뉴욕', '런던', '마드리드', '뮌헨', '플로리다']\n",
      "['플로리다', '뮌헨', '마드리드', '런던', '뉴욕']\n"
     ]
    }
   ],
   "source": [
    "# 연습문제 3-8\n",
    "\n",
    "place = ['뉴욕', '플로리다', '뮌헨', '마드리드', '런던']\n",
    "print(place)\n",
    "\n",
    "print(sorted(place))\n",
    "\n",
    "print(place)\n",
    "\n",
    "print(sorted(place, reverse = True))\n",
    "\n",
    "\n",
    "print(place)\n",
    "\n",
    "place.sort()\n",
    "print(place)\n",
    "\n",
    "place.sort(reverse = True)\n",
    "print(place)"
   ]
  },
  {
   "cell_type": "code",
   "execution_count": 22,
   "id": "adolescent-saturn",
   "metadata": {},
   "outputs": [
    {
     "name": "stdout",
     "output_type": "stream",
     "text": [
      "성민, 저녁 먹으러 와\n",
      "준규, 저녁 먹으러 와\n",
      "훈규, 저녁 먹으러 와\n",
      "저녁식사에 초대한 손님들은 3명 입니다.\n"
     ]
    }
   ],
   "source": [
    "# 연습문제 3-9\n",
    "\n",
    "guests = ['성민', '준규', '훈규']\n",
    "\n",
    "name = guests[0].title()\n",
    "print(name + \", 저녁 먹으러 와\")\n",
    "\n",
    "name = guests[1].title()\n",
    "print(name + \", 저녁 먹으러 와\")\n",
    "\n",
    "name = guests[2].title()\n",
    "print(name + \", 저녁 먹으러 와\")\n",
    "\n",
    "len(guests)\n",
    "print(\"저녁식사에 초대한 손님들은 \" + str(len(guests)) + \"명 입니다.\")"
   ]
  },
  {
   "cell_type": "code",
   "execution_count": null,
   "id": "narrative-distinction",
   "metadata": {},
   "outputs": [],
   "source": [
    "# 연습문제 4-1\n",
    "\n"
   ]
  },
  {
   "cell_type": "code",
   "execution_count": 1,
   "id": "smart-trustee",
   "metadata": {},
   "outputs": [
    {
     "name": "stdout",
     "output_type": "stream",
     "text": [
      "original dimensions:\n",
      "200\n",
      "50\n",
      "\n",
      "Modified dimensions:\n",
      "400\n",
      "100\n"
     ]
    }
   ],
   "source": [
    "dimensions = (200, 50)\n",
    "print(\"original dimensions:\")\n",
    "for dimension in dimensions:\n",
    "    print(dimension)\n",
    "    \n",
    "    \n",
    "dimensions = (400, 100)\n",
    "print(\"\\nModified dimensions:\")\n",
    "for dimension in dimensions:\n",
    "    print(dimension)"
   ]
  },
  {
   "cell_type": "code",
   "execution_count": 2,
   "id": "outer-correspondence",
   "metadata": {},
   "outputs": [
    {
     "name": "stdout",
     "output_type": "stream",
     "text": [
      "Hold the anchovies!\n"
     ]
    }
   ],
   "source": [
    "requested_topping = 'mushrooms'\n",
    "if requested_topping != 'anchovies':\n",
    "    print(\"Hold the anchovies!\")"
   ]
  },
  {
   "cell_type": "code",
   "execution_count": 3,
   "id": "italian-range",
   "metadata": {},
   "outputs": [
    {
     "data": {
      "text/plain": [
       "True"
      ]
     },
     "execution_count": 3,
     "metadata": {},
     "output_type": "execute_result"
    }
   ],
   "source": [
    ">>> age_0 = 22\n",
    ">>> age_1 = 18\n",
    ">>> age_0 >= 21 and age_1 >= 21\n",
    "False\n",
    ">>> age_1 = 22\n",
    ">>> age_0 = 21 and age_1 >= 21\n",
    "True"
   ]
  },
  {
   "cell_type": "code",
   "execution_count": 5,
   "id": "incoming-brown",
   "metadata": {},
   "outputs": [
    {
     "name": "stdout",
     "output_type": "stream",
     "text": [
      "Marie, you can post a response if you wish.\n"
     ]
    }
   ],
   "source": [
    "banned_users = ['andrew', 'carolina', 'david']\n",
    "user = 'marie'\n",
    "if user not in banned_users:\n",
    "    print(f\"{user.title()}, you can post a response if you wish.\")"
   ]
  },
  {
   "cell_type": "code",
   "execution_count": 6,
   "id": "authorized-negotiation",
   "metadata": {},
   "outputs": [
    {
     "name": "stdout",
     "output_type": "stream",
     "text": [
      "yout admission cost is $25\n"
     ]
    }
   ],
   "source": [
    "age = 12\n",
    "\n",
    "if age < 4:\n",
    "    print(\"your admission cost is $0.\")\n",
    "elif age < 18:\n",
    "    print(\"yout admission cost is $25\")\n",
    "else:\n",
    "    print(\"your admission cost is $40\")"
   ]
  },
  {
   "cell_type": "code",
   "execution_count": 2,
   "id": "olive-orlando",
   "metadata": {},
   "outputs": [
    {
     "name": "stdout",
     "output_type": "stream",
     "text": [
      "[1, 4, 9, 16, 25, 36, 49, 64, 81, 100]\n"
     ]
    }
   ],
   "source": [
    "squares = []\n",
    "for value in range(1,11):\n",
    "    square = value ** 2\n",
    "    squares.append(square)\n",
    "\n",
    "print(squares)"
   ]
  },
  {
   "cell_type": "code",
   "execution_count": 1,
   "id": "elegant-piece",
   "metadata": {},
   "outputs": [
    {
     "name": "stdout",
     "output_type": "stream",
     "text": [
      "Adding mushrooms.\n",
      "Adding extra cheese.\n",
      "\n",
      "Finished making your cheese.\n"
     ]
    }
   ],
   "source": [
    "requested_toppings = ['mushrooms', 'extra cheese']\n",
    "\n",
    "if 'mushrooms' in requested_toppings:\n",
    "    print(\"Adding mushrooms.\")\n",
    "if 'pepperoni' in requested_toppings:\n",
    "    print(\"Adding pepperoni\")\n",
    "if 'extra cheese' in requested_toppings:\n",
    "    print(\"Adding extra cheese.\")\n",
    "\n",
    "print(\"\\nFinished making your cheese.\")"
   ]
  },
  {
   "cell_type": "code",
   "execution_count": 6,
   "id": "mighty-quality",
   "metadata": {},
   "outputs": [
    {
     "name": "stdout",
     "output_type": "stream",
     "text": [
      "Adding mushromms.\n",
      "Sorry we are out of green peppers right now.\n",
      "Adding extrea cheese.\n",
      "\n",
      "Finished making your pizza\n"
     ]
    }
   ],
   "source": [
    "requested_toppings = ['mushromms', 'green peppers', 'extrea cheese']\n",
    "\n",
    "for requested_topping in requested_toppings:\n",
    "    if requested_topping == 'green peppers':\n",
    "        print(\"Sorry we are out of green peppers right now.\")\n",
    "    else:\n",
    "        print(f\"Adding {requested_topping}.\")\n",
    "        \n",
    "print(\"\\nFinished making your pizza\")"
   ]
  },
  {
   "cell_type": "code",
   "execution_count": 1,
   "id": "specified-southeast",
   "metadata": {},
   "outputs": [
    {
     "name": "stdout",
     "output_type": "stream",
     "text": [
      "Adding mushrooms.\n",
      "Sorry, we don't have french fries.\n",
      "Adding extra cheese.\n",
      "\n",
      "Finished making your pizza\n"
     ]
    }
   ],
   "source": [
    "available_toppings = ['mushrooms', 'olives', 'green peppers', 'pepperoni', 'pineapple', 'extra cheese']\n",
    "requested_toppings = ['mushrooms', 'french fries', 'extra cheese']\n",
    "\n",
    "for requested_topping in requested_toppings:\n",
    "    if requested_topping in available_toppings:\n",
    "        print(f\"Adding {requested_topping}.\")\n",
    "    else:\n",
    "        print(f\"Sorry, we don't have {requested_topping}.\")\n",
    "        \n",
    "print(\"\\nFinished making your pizza\")"
   ]
  },
  {
   "cell_type": "code",
   "execution_count": null,
   "id": "random-parallel",
   "metadata": {},
   "outputs": [
    {
     "name": "stdout",
     "output_type": "stream",
     "text": [
      "\n",
      "Please tell me your name:\n",
      "(enter 'q' at any time to quit)\n",
      "First name: Jungho\n",
      "Last name: Lee\n",
      "\n",
      "Hello, Jungho Lee!\n",
      "\n",
      "Please tell me your name:\n",
      "(enter 'q' at any time to quit)\n"
     ]
    }
   ],
   "source": [
    "def get_formatted_name(first_name, last_name):\n",
    "    \"\"\"읽기 쉬운 전체 이름을 반환합니다\"\"\"\n",
    "    full_name = f\"{first_name} {last_name}\"\n",
    "    return full_name.title()\n",
    "\n",
    "while True:\n",
    "    print(\"\\nPlease tell me your name:\")\n",
    "    print(\"(enter 'q' at any time to quit)\")\n",
    "    \n",
    "    f_name = input(\"First name: \")\n",
    "    if f_name == 'q':\n",
    "        break\n",
    "        \n",
    "    l_name = input(\"Last name: \")\n",
    "    if l_name == 'q':\n",
    "        break\n",
    "    \n",
    "    formatted_name = get_formatted_name(f_name, l_name)\n",
    "    print(f\"\\nHello, {formatted_name}!\")"
   ]
  },
  {
   "cell_type": "code",
   "execution_count": null,
   "id": "historical-joyce",
   "metadata": {},
   "outputs": [],
   "source": [
    "def print_models(unprinted_designs, completed_models):\n",
    "    \"\"\"\n",
    "    남은 것이 없을 때까지 각 디자인의 출력을 시뮬레이트합니다\n",
    "    출력한 각 디자인을 completed_models로 옮깁니다\n",
    "    \"\"\"\n",
    "    \n",
    "    while unprinted_designs:\n",
    "        current_design = upprinted_designs.pop()\n",
    "        print(f\"Printing model: {current_design}\")\n",
    "        completed_models.append(current_design)\n",
    "    \n",
    "def show_completed_models(completed_models):\n",
    "    \"\"\"출력이 끝난 모델 모두 표시\"\"\"\n",
    "    print(\"\\nThe following models have been printed:\")\n",
    "    for completed_model in completed_models:\n",
    "        print(completed_model)\n",
    "\n",
    "unprinted_designs = ['phone case', 'robot pendant', 'dodecahedron']\n",
    "completed_models = []\n",
    "\n",
    "print_models(unprinted_designs, completed_models)\n",
    "show_completed_models(completed_models)\n",
    "    "
   ]
  },
  {
   "cell_type": "code",
   "execution_count": 2,
   "id": "empty-richardson",
   "metadata": {},
   "outputs": [],
   "source": [
    "class Dog:\n",
    "    \"\"\"개를 모델화하는 시도\"\"\"\n",
    "    \n",
    "    def __init__(slef, name, age):\n",
    "        \"\"\"name과 age 속성 초기화\"\"\"\n",
    "        self.name = name\n",
    "        self.age = age\n",
    "        \n",
    "    def sit(self):\n",
    "        \"\"\"명령에 따라 앉는 개\"\"\"\n",
    "        print(f\"{self.name} is now sitting.\")\n",
    "        \n",
    "    def roll_over(self):\n",
    "        \"\"\"명령에 따라 구르는 개\"\"\"\n",
    "        print(f\"{self.name} rolled over!\")"
   ]
  },
  {
   "cell_type": "code",
   "execution_count": 2,
   "id": "about-smooth",
   "metadata": {},
   "outputs": [
    {
     "name": "stdout",
     "output_type": "stream",
     "text": [
      "2019 Audi A4\n"
     ]
    }
   ],
   "source": [
    "class car:\n",
    "    \"\"\"자동차를 나타내는 코드\"\"\"\n",
    "    \n",
    "    def __init__(self, make, model, year):\n",
    "        \"\"\"자동차를 나타내는 속성 초기화\"\"\"\n",
    "        self.make = make\n",
    "        self.model = model\n",
    "        self.year = year\n",
    "        \n",
    "    def get_descriptive_name(self):\n",
    "        \"\"\"알아보기 쉬운 이름 반환\"\"\"\n",
    "        long_name = f\"{self.year} {self.make} {self.model}\"\n",
    "        return long_name.title()\n",
    "\n",
    "my_new_car = car('audi', 'a4', 2019)\n",
    "print(my_new_car.get_descriptive_name())"
   ]
  },
  {
   "cell_type": "code",
   "execution_count": 4,
   "id": "japanese-madonna",
   "metadata": {},
   "outputs": [
    {
     "name": "stdout",
     "output_type": "stream",
     "text": [
      "2019 Audi A4\n",
      "This car has 0 miles on it.\n"
     ]
    }
   ],
   "source": [
    "class car:\n",
    "    def __init__(self, make, model, year):\n",
    "        \"\"\"자동차를 나타내는 속성 초기화\"\"\"\n",
    "        self.make = make\n",
    "        self.model = model\n",
    "        self.year = year\n",
    "        self.odometer_reading = 0\n",
    "    \n",
    "    def get_descriptive_name(self):\n",
    "        \"\"\"알아보기 쉬운 이름 반환\"\"\"\n",
    "        long_name = f\"{self.year} {self.make} {self.model}\"\n",
    "        return long_name.title()\n",
    "    \n",
    "    def read_odometer(self):\n",
    "        \"\"\"주행거리를 나타내는 문장을 출력합니다\"\"\"\n",
    "        print(f\"This car has {self.odometer_reading} miles on it.\")\n",
    "        \n",
    "my_new_car = car('audi', 'a4', 2019)\n",
    "print(my_new_car.get_descriptive_name())\n",
    "my_new_car.read_odometer()"
   ]
  },
  {
   "cell_type": "code",
   "execution_count": 1,
   "id": "broke-durham",
   "metadata": {},
   "outputs": [],
   "source": [
    "\"\"\"자동차를 표현할 때 쓸 수 있는 클래스\"\"\"\n",
    "\n",
    "class car:\n",
    "    \"\"\"자동차를 표현하려는 단순한 시도\"\"\"\n",
    "    \n",
    "    def __init__(self, make, model, year):\n",
    "        \"\"\"자동차를 나타내는 속성 초기화\"\"\"\n",
    "        self.make = make\n",
    "        self.model = model\n",
    "        self.year = year\n",
    "        self.odometer_reading = 0\n",
    "        \n",
    "    def get_descriptive_name(self):\n",
    "        \"\"\"읽기 쉽고 의미 있는 이름을 반환합니다\"\"\"\n",
    "        long_name = f\"{self.year} {self.make} {self.model}\"\n",
    "        return long_name.title()\n",
    "    \n",
    "    def read_odometer(self):\n",
    "        \"\"\"자동차의 주행거리를 출력합니다\"\"\"\n",
    "        print(f\"This car has {self.odometer_reading} miles on it.\")\n",
    "    \n",
    "    def update_odometer(self, mileage):\n",
    "        \"\"\"주행거리 표시기를 주어진 값으로 바꿉니다\n",
    "            주행거리 표시기를 롤백하려는 시도는 거부합니다\n",
    "        \"\"\"\n",
    "    \n",
    "        if mileage >= self.odometer_reading:\n",
    "            self.odometer_reading = mileage\n",
    "    \n",
    "        else:\n",
    "            print(\"You can't roll back an odometer!\")\n",
    "    \n",
    "    def increment_odometer(self, miles):\n",
    "        \"\"\"주행거리를 주어진 양만큼 늘립니다\"\"\"\n",
    "        self.odometer_reading += miles\n",
    "    "
   ]
  },
  {
   "cell_type": "code",
   "execution_count": 1,
   "id": "proper-weight",
   "metadata": {},
   "outputs": [
    {
     "name": "stdout",
     "output_type": "stream",
     "text": [
      "북극성은 중식이며 서빙한 고객들은 0명 입니다.\n",
      "북극성은 중식이며 서빙한 고객들은 100명 입니다.\n",
      "북극성은 중식이며 서빙한 고객들은 110명 입니다.\n"
     ]
    }
   ],
   "source": [
    "# 연습문제 9-4\n",
    "\n",
    "class Restaurant:\n",
    "    def __init__(self, name, type):\n",
    "        self.name = name\n",
    "        self.type = type\n",
    "        self.numberofserved = 0\n",
    "        \n",
    "    def open(self):\n",
    "        print(f\"{self.name} is open.\")\n",
    "        \n",
    "    def describe(self):\n",
    "        print(f\"{self.name} is {self.type} restaurant.\")\n",
    "        \n",
    "   \n",
    "    def setserved(self, num):\n",
    "        self.numberofserved = num\n",
    "        \n",
    "    def incserved(self, num):\n",
    "        self.numberofserved += num\n",
    "    def showinfo(self):\n",
    "        print(f\"{self.name}은 {self.type}이며 서빙한 고객들은 {self.numberofserved}명 입니다.\")\n",
    "    \n",
    "\n",
    "R1 = Restaurant(\"북극성\", \"중식\")\n",
    "R1.showinfo()\n",
    "R1.setserved(100)\n",
    "R1.showinfo()\n",
    "R1.incserved(10)\n",
    "R1.showinfo()"
   ]
  },
  {
   "cell_type": "code",
   "execution_count": 2,
   "id": "auburn-harmony",
   "metadata": {},
   "outputs": [],
   "source": [
    "# 연습문제 9-5\n",
    "\n",
    "class User:\n",
    "    def __init__(self, first, last, age):\n",
    "        self.first = first\n",
    "        self.last = last\n",
    "        self.age = age\n",
    "        self.fullname = first + last\n",
    "        self.attempts = 0\n",
    "        \n",
    "    def greet(self):\n",
    "        print(f\"{self.fullname}님 안녕하세요.\")\n",
    "        \n",
    "    def user(self):\n",
    "        print(f\"{self.fullname}님의 성은 {self.first}, 이름은 {self.last}, 나이는 {self.age}세 입니다.\")\n",
    "    \n",
    "    def loginattempts(self):\n",
    "        self.attempts += 1\n",
    "        \n",
    "    def resetattempts(self):\n",
    "        self.attempts = 0\n",
    "    \n",
    "    def info(self):\n",
    "        print(f\"{self.attempts}\")"
   ]
  },
  {
   "cell_type": "code",
   "execution_count": 3,
   "id": "greater-toddler",
   "metadata": {},
   "outputs": [],
   "source": [
    "U1 = User(\"이\", \"정호\", 26)"
   ]
  },
  {
   "cell_type": "code",
   "execution_count": 4,
   "id": "sudden-fleece",
   "metadata": {},
   "outputs": [
    {
     "name": "stdout",
     "output_type": "stream",
     "text": [
      "0\n"
     ]
    }
   ],
   "source": [
    "U1.info()"
   ]
  },
  {
   "cell_type": "code",
   "execution_count": 5,
   "id": "exposed-chemistry",
   "metadata": {},
   "outputs": [],
   "source": [
    "U1.loginattempts()"
   ]
  },
  {
   "cell_type": "code",
   "execution_count": 6,
   "id": "straight-sheriff",
   "metadata": {},
   "outputs": [
    {
     "name": "stdout",
     "output_type": "stream",
     "text": [
      "1\n"
     ]
    }
   ],
   "source": [
    "U1.info()"
   ]
  },
  {
   "cell_type": "code",
   "execution_count": 7,
   "id": "grand-julian",
   "metadata": {},
   "outputs": [],
   "source": [
    "U1.loginattempts()"
   ]
  },
  {
   "cell_type": "code",
   "execution_count": 8,
   "id": "outdoor-teens",
   "metadata": {},
   "outputs": [
    {
     "name": "stdout",
     "output_type": "stream",
     "text": [
      "2\n"
     ]
    }
   ],
   "source": [
    "U1.info()"
   ]
  },
  {
   "cell_type": "code",
   "execution_count": 10,
   "id": "soviet-lewis",
   "metadata": {},
   "outputs": [
    {
     "name": "stdout",
     "output_type": "stream",
     "text": [
      "Beskin은 디저트이며 서빙한 고객들은 0명 입니다.\n",
      "\n",
      "저희 매장에서는 다음과 같은 맛을 주문할 수 있습니다.\n",
      "- vanilla\n",
      "- strawberry\n",
      "- chocolate\n"
     ]
    }
   ],
   "source": [
    "# 연습문제 9-6\n",
    "\n",
    "class Restaurant:\n",
    "    def __init__(self, name, type):\n",
    "        self.name = name\n",
    "        self.type = type\n",
    "        self.numberofserved = 0\n",
    "        self.flavors = ['vanila', 'strawberry', 'chocolate']\n",
    "        \n",
    "    def open(self):\n",
    "        print(f\"{self.name} is open.\")\n",
    "        \n",
    "    def describe(self):\n",
    "        print(f\"{self.name} is {self.type} restaurant.\")\n",
    "        \n",
    "   \n",
    "    def setserved(self, num):\n",
    "        self.numberofserved = num\n",
    "        \n",
    "    def incserved(self, num):\n",
    "        self.numberofserved += num\n",
    "    def showinfo(self):\n",
    "        print(f\"{self.name}은 {self.type}이며 서빙한 고객들은 {self.numberofserved}명 입니다.\")\n",
    "\n",
    "\n",
    "class Icecreamstand(Restaurant):\n",
    "    def __init__(self, name, type = 'ice_cream'):\n",
    "        super().__init__(name, type)\n",
    "        self.flavors = []\n",
    "        \n",
    "    def lstflavors(self):\n",
    "        print(\"\\n저희 매장에서는 다음과 같은 맛을 주문할 수 있습니다.\")\n",
    "        for flavor in self.flavors:\n",
    "            print(\"- \" + flavor)\n",
    "            \n",
    "beskin = Icecreamstand('Beskin' , '디저트')\n",
    "beskin.flavors = ['vanilla', 'strawberry', 'chocolate']\n",
    "\n",
    "beskin.showinfo()\n",
    "beskin.lstflavors()"
   ]
  },
  {
   "cell_type": "code",
   "execution_count": 4,
   "id": "automotive-album",
   "metadata": {},
   "outputs": [
    {
     "name": "stdout",
     "output_type": "stream",
     "text": [
      "JungHoLee님의 성은 JungHo, 이름은 Lee, 나이는 26세 입니다.\n",
      "\n",
      "Privileges:\n"
     ]
    },
    {
     "ename": "AttributeError",
     "evalue": "'Admin' object has no attribute 'privilegs'",
     "output_type": "error",
     "traceback": [
      "\u001b[1;31m---------------------------------------------------------------------------\u001b[0m",
      "\u001b[1;31mAttributeError\u001b[0m                            Traceback (most recent call last)",
      "\u001b[1;32m<ipython-input-4-7af1da116f4a>\u001b[0m in \u001b[0;36m<module>\u001b[1;34m\u001b[0m\n\u001b[0;32m     39\u001b[0m                  \u001b[1;34m'can moderate discussions'\u001b[0m\u001b[1;33m,\u001b[0m\u001b[1;33m\u001b[0m\u001b[1;33m\u001b[0m\u001b[0m\n\u001b[0;32m     40\u001b[0m                  'can suspend accounts']\n\u001b[1;32m---> 41\u001b[1;33m \u001b[0mU1\u001b[0m\u001b[1;33m.\u001b[0m\u001b[0mshow_privileges\u001b[0m\u001b[1;33m(\u001b[0m\u001b[1;33m)\u001b[0m\u001b[1;33m\u001b[0m\u001b[1;33m\u001b[0m\u001b[0m\n\u001b[0m",
      "\u001b[1;32m<ipython-input-4-7af1da116f4a>\u001b[0m in \u001b[0;36mshow_privileges\u001b[1;34m(self)\u001b[0m\n\u001b[0;32m     30\u001b[0m     \u001b[1;32mdef\u001b[0m \u001b[0mshow_privileges\u001b[0m\u001b[1;33m(\u001b[0m\u001b[0mself\u001b[0m\u001b[1;33m)\u001b[0m\u001b[1;33m:\u001b[0m\u001b[1;33m\u001b[0m\u001b[1;33m\u001b[0m\u001b[0m\n\u001b[0;32m     31\u001b[0m         \u001b[0mprint\u001b[0m\u001b[1;33m(\u001b[0m\u001b[1;34m\"\\nPrivileges:\"\u001b[0m\u001b[1;33m)\u001b[0m\u001b[1;33m\u001b[0m\u001b[1;33m\u001b[0m\u001b[0m\n\u001b[1;32m---> 32\u001b[1;33m         \u001b[1;32mfor\u001b[0m \u001b[0mprivilege\u001b[0m \u001b[1;32min\u001b[0m \u001b[0mself\u001b[0m\u001b[1;33m.\u001b[0m\u001b[0mprivilegs\u001b[0m\u001b[1;33m:\u001b[0m\u001b[1;33m\u001b[0m\u001b[1;33m\u001b[0m\u001b[0m\n\u001b[0m\u001b[0;32m     33\u001b[0m             \u001b[0mprint\u001b[0m\u001b[1;33m(\u001b[0m\u001b[1;34m\"- \"\u001b[0m \u001b[1;33m+\u001b[0m \u001b[0mprivilege\u001b[0m\u001b[1;33m)\u001b[0m\u001b[1;33m\u001b[0m\u001b[1;33m\u001b[0m\u001b[0m\n\u001b[0;32m     34\u001b[0m \u001b[1;33m\u001b[0m\u001b[0m\n",
      "\u001b[1;31mAttributeError\u001b[0m: 'Admin' object has no attribute 'privilegs'"
     ]
    }
   ],
   "source": [
    "# 연습문제 9-7\n",
    "\n",
    "class User:\n",
    "    def __init__(self, first, last, age):\n",
    "        self.first = first\n",
    "        self.last = last\n",
    "        self.age = age\n",
    "        self.fullname = first + last\n",
    "        self.attempts = 0\n",
    "        \n",
    "    def greet(self):\n",
    "        print(f\"{self.fullname}님 안녕하세요.\")\n",
    "        \n",
    "    def user(self):\n",
    "        print(f\"{self.fullname}님의 성은 {self.first}, 이름은 {self.last}, 나이는 {self.age}세 입니다.\")\n",
    "    \n",
    "    def loginattempts(self):\n",
    "        self.attempts += 1\n",
    "        \n",
    "    def resetattempts(self):\n",
    "        self.attempts = 0\n",
    "    \n",
    "    def info(self):\n",
    "        print(f\"{self.attempts}\")\n",
    "\n",
    "class Admin(User):\n",
    "    def __init__(self, first, last, age):\n",
    "        super().__init__(first, last, age)\n",
    "        self.privileges = []\n",
    "    \n",
    "    \n",
    "    def show_privileges(self):\n",
    "        print(\"\\nPrivileges:\")\n",
    "        for privilege in self.privilegs:\n",
    "            print(\"- \" + privilege)\n",
    "\n",
    "U1 = Admin('JungHo', 'Lee', 26)\n",
    "U1.user()\n",
    "\n",
    "U1.privileges = ['can reset passwords', \n",
    "                 'can moderate discussions', \n",
    "                 'can suspend accounts']\n",
    "U1.show_privileges()"
   ]
  },
  {
   "cell_type": "code",
   "execution_count": 3,
   "id": "silent-authorization",
   "metadata": {},
   "outputs": [
    {
     "name": "stdout",
     "output_type": "stream",
     "text": [
      "\n",
      "Eric Matthes\n",
      "  Username: e_matthes\n",
      "  Email: e_matthes@example.com\n",
      "  Location: Alaska\n",
      "\n",
      "Privileges:\n",
      "- can reset passwords\n",
      "- can moderate discussions\n",
      "- can suspend accounts\n"
     ]
    }
   ],
   "source": [
    "class User():\n",
    "    \"\"\"Represent a simple user profile.\"\"\"\n",
    "\n",
    "    def __init__(self, first_name, last_name, username, email, location):\n",
    "        \"\"\"Initialize the user.\"\"\"\n",
    "        self.first_name = first_name.title()\n",
    "        self.last_name = last_name.title()\n",
    "        self.username = username\n",
    "        self.email = email\n",
    "        self.location = location.title()\n",
    "        self.login_attempts = 0\n",
    "\n",
    "    def describe_user(self):\n",
    "        \"\"\"Display a summary of the user's information.\"\"\"\n",
    "        print(\"\\n\" + self.first_name + \" \" + self.last_name)\n",
    "        print(\"  Username: \" + self.username)\n",
    "        print(\"  Email: \" + self.email)\n",
    "        print(\"  Location: \" + self.location)\n",
    "\n",
    "    def greet_user(self):\n",
    "        \"\"\"Display a personalized greeting to the user.\"\"\"\n",
    "        print(\"\\nWelcome back, \" + self.username + \"!\")\n",
    "\n",
    "    def increment_login_attempts(self):\n",
    "        \"\"\"Increment the value of login_attempts.\"\"\"\n",
    "        self.login_attempts += 1\n",
    "\n",
    "    def reset_login_attempts(self):\n",
    "        \"\"\"Reset login_attempts to 0.\"\"\"\n",
    "        self.login_attempts = 0\n",
    "\n",
    "\n",
    "class Admin(User):\n",
    "    \"\"\"A user with administrative privileges.\"\"\"\n",
    "\n",
    "    def __init__(self, first_name, last_name, username, email, location):\n",
    "        \"\"\"Initialize the admin.\"\"\"\n",
    "        super().__init__(first_name, last_name, username, email, location)\n",
    "        self.privileges = []\n",
    "\n",
    "    def show_privileges(self):\n",
    "        \"\"\"Display the privileges this administrator has.\"\"\"\n",
    "        print(\"\\nPrivileges:\")\n",
    "        for privilege in self.privileges:\n",
    "            print(\"- \" + privilege)\n",
    "\n",
    "\n",
    "eric = Admin('eric', 'matthes', 'e_matthes', 'e_matthes@example.com', 'alaska')\n",
    "eric.describe_user()\n",
    "\n",
    "eric.privileges = [\n",
    "    'can reset passwords',\n",
    "    'can moderate discussions',\n",
    "    'can suspend accounts',\n",
    "    ]\n",
    "\n",
    "eric.show_privileges()"
   ]
  },
  {
   "cell_type": "code",
   "execution_count": 5,
   "id": "christian-dream",
   "metadata": {},
   "outputs": [
    {
     "name": "stdout",
     "output_type": "stream",
     "text": [
      "Make an electric car, and check the battery:\n",
      "This car has a 60-kWh battery.\n",
      "\n",
      "Upgrade the battery, and check it again:\n",
      "Upgraded the battery to 85 kWh.\n",
      "This car has a 85-kWh battery.\n",
      "\n",
      "Try upgrading the battery a second time.\n",
      "The battery is already upgraded.\n",
      "This car has a 85-kWh battery.\n"
     ]
    }
   ],
   "source": [
    "# 연습문제 9-8\n",
    "\n",
    "class Car():\n",
    "    \"\"\"A simple attempt to represent a car.\"\"\"\n",
    "\n",
    "    def __init__(self, manufacturer, model, year):\n",
    "        \"\"\"Initialize attributes to describe a car.\"\"\"\n",
    "        self.manufacturer = manufacturer\n",
    "        self.model = model\n",
    "        self.year = year\n",
    "        self.odometer_reading = 0\n",
    "        \n",
    "    def get_descriptive_name(self):\n",
    "        \"\"\"Return a neatly formatted descriptive name.\"\"\"\n",
    "        long_name = str(self.year) + ' ' + self.manufacturer + ' ' + self.model\n",
    "        return long_name.title()\n",
    "    \n",
    "    def read_odometer(self):\n",
    "        \"\"\"Print a statement showing the car's mileage.\"\"\"\n",
    "        print(\"This car has \" + str(self.odometer_reading) + \" miles on it.\")\n",
    "        \n",
    "    def update_odometer(self, mileage):\n",
    "        \"\"\"\n",
    "        Set the odometer reading to the given value.\n",
    "        Reject the change if it attempts to roll the odometer back.\n",
    "        \"\"\"\n",
    "        if mileage >= self.odometer_reading:\n",
    "            self.odometer_reading = mileage\n",
    "        else:\n",
    "            print(\"You can't roll back an odometer!\")\n",
    "    \n",
    "    def increment_odometer(self, miles):\n",
    "        \"\"\"Add the given amount to the odometer reading.\"\"\"\n",
    "        self.odometer_reading += miles\n",
    "\n",
    "class Battery():\n",
    "    \"\"\"A simple attempt to model a battery for an electric car.\"\"\"\n",
    "\n",
    "    def __init__(self, battery_size=60):\n",
    "        \"\"\"Initialize the batteery's attributes.\"\"\"\n",
    "        self.battery_size = battery_size\n",
    "\n",
    "    def describe_battery(self):\n",
    "        \"\"\"Print a statement describing the battery size.\"\"\"\n",
    "        print(\"This car has a \" + str(self.battery_size) + \"-kWh battery.\")\n",
    "\n",
    "        \n",
    "    def get_range(self):\n",
    "        \"\"\"Print a statement about the range this battery provides.\"\"\"\n",
    "        if self.battery_size == 60:\n",
    "            range = 140\n",
    "        elif self.battery_size == 85:\n",
    "            range = 185\n",
    "            \n",
    "        message = \"This car can go approximately \" + str(range)\n",
    "        message += \" miles on a full charge.\"\n",
    "        print(message)\n",
    "\n",
    "    def upgrade_battery(self):\n",
    "        \"\"\"Upgrade the battery if possible.\"\"\"\n",
    "        if self.battery_size == 60:\n",
    "            self.battery_size = 85\n",
    "            print(\"Upgraded the battery to 85 kWh.\")\n",
    "        else:\n",
    "            print(\"The battery is already upgraded.\")\n",
    "    \n",
    "        \n",
    "class ElectricCar(Car):\n",
    "    \"\"\"Models aspects of a car, specific to electric vehicles.\"\"\"\n",
    "\n",
    "    def __init__(self, manufacturer, model, year):\n",
    "        \"\"\"\n",
    "        Initialize attributes of the parent class.\n",
    "        Then initialize attributes specific to an electric car.\n",
    "        \"\"\"\n",
    "        super().__init__(manufacturer, model, year)\n",
    "        self.battery = Battery()\n",
    "\n",
    "\n",
    "print(\"Make an electric car, and check the battery:\")\n",
    "my_tesla = ElectricCar('tesla', 'model s', 2016)\n",
    "my_tesla.battery.describe_battery()\n",
    "\n",
    "print(\"\\nUpgrade the battery, and check it again:\")\n",
    "my_tesla.battery.upgrade_battery()\n",
    "my_tesla.battery.describe_battery()\n",
    "\n",
    "print(\"\\nTry upgrading the battery a second time.\")\n",
    "my_tesla.battery.upgrade_battery()\n",
    "my_tesla.battery.describe_battery()"
   ]
  },
  {
   "cell_type": "code",
   "execution_count": null,
   "id": "portable-reduction",
   "metadata": {},
   "outputs": [],
   "source": []
  }
 ],
 "metadata": {
  "kernelspec": {
   "display_name": "Python 3",
   "language": "python",
   "name": "python3"
  },
  "language_info": {
   "codemirror_mode": {
    "name": "ipython",
    "version": 3
   },
   "file_extension": ".py",
   "mimetype": "text/x-python",
   "name": "python",
   "nbconvert_exporter": "python",
   "pygments_lexer": "ipython3",
   "version": "3.8.7"
  }
 },
 "nbformat": 4,
 "nbformat_minor": 5
}
