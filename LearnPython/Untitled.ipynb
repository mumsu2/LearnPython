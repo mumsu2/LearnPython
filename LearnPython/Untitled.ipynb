{
 "cells": [
  {
   "cell_type": "markdown",
   "id": "representative-opera",
   "metadata": {},
   "source": [
    "### 1. 1~2일차 수업내용\n",
    "#### 1.1 입출력함수\n",
    "- 사용자로부터 데이터를 입력받기 위한 함수 = input()\n",
    "\n",
    "```python\n",
    "a = input(\"a : \")\n",
    "b = input(\"b : \")\n",
    "result = a + b\n",
    "print(a + \" + \" + b + \" = \" + result)\n",
    "```"
   ]
  },
  {
   "cell_type": "code",
   "execution_count": 2,
   "id": "referenced-jaguar",
   "metadata": {},
   "outputs": [
    {
     "name": "stdout",
     "output_type": "stream",
     "text": [
      "숫자를 하나 입력해주세요100\n",
      "100\n"
     ]
    }
   ],
   "source": [
    "a = input(\"숫자를 하나 입력해주세요\")\n",
    "print(a)"
   ]
  },
  {
   "cell_type": "code",
   "execution_count": 13,
   "id": "studied-relay",
   "metadata": {},
   "outputs": [
    {
     "name": "stdout",
     "output_type": "stream",
     "text": [
      "a : 3\n",
      "b : 4\n",
      "3 + 4 = 34\n"
     ]
    }
   ],
   "source": [
    "a = input(\"a : \")\n",
    "b = input(\"b : \")\n",
    "result = a + b # 두 개의 숫자를 더하기\n",
    "print(a + \" + \" + b + \" = \" + result)"
   ]
  },
  {
   "cell_type": "code",
   "execution_count": 14,
   "id": "saved-irrigation",
   "metadata": {},
   "outputs": [
    {
     "data": {
      "text/plain": [
       "str"
      ]
     },
     "execution_count": 14,
     "metadata": {},
     "output_type": "execute_result"
    }
   ],
   "source": [
    "type(a)"
   ]
  },
  {
   "cell_type": "markdown",
   "id": "decent-practice",
   "metadata": {},
   "source": [
    "위 실행코드는 오류가 발생한다. input()함수를 통한 입력값은 문자열이기 때문에 연산적용이 안된다. 따라서 정수로 변환하는 과정이 필요하다.\n",
    "```python\n",
    "a = int(input(\"a: \"))\n",
    "b = int(input(\"b: \"))\n",
    "print(a + \" + \" + b + \" = \" + result)\n",
    "```"
   ]
  },
  {
   "cell_type": "code",
   "execution_count": 10,
   "id": "civilian-skill",
   "metadata": {},
   "outputs": [
    {
     "name": "stdout",
     "output_type": "stream",
     "text": [
      "a: 3\n",
      "b: 4\n",
      "7\n"
     ]
    }
   ],
   "source": [
    "a = int(input(\"a: \"))\n",
    "b = int(input(\"b: \"))\n",
    "result = a + b \n",
    "print(result)"
   ]
  },
  {
   "cell_type": "code",
   "execution_count": 11,
   "id": "national-salon",
   "metadata": {},
   "outputs": [
    {
     "data": {
      "text/plain": [
       "int"
      ]
     },
     "execution_count": 11,
     "metadata": {},
     "output_type": "execute_result"
    }
   ],
   "source": [
    "type(a)"
   ]
  },
  {
   "cell_type": "markdown",
   "id": "robust-regression",
   "metadata": {},
   "source": [
    "<연습문제> 사용자로부터 태어난 해를 입력받아 나이를 계산하는 프로그램을 작성해보자."
   ]
  },
  {
   "cell_type": "code",
   "execution_count": 25,
   "id": "rough-lighting",
   "metadata": {},
   "outputs": [
    {
     "name": "stdout",
     "output_type": "stream",
     "text": [
      "기준년도2021\n",
      "b : 1996\n",
      "25\n"
     ]
    }
   ],
   "source": [
    "a = int(input(\"기준년도\"))\n",
    "b = int(input(\"b : \"))\n",
    "result = a - b\n",
    "print(result)"
   ]
  },
  {
   "cell_type": "code",
   "execution_count": 33,
   "id": "intellectual-penetration",
   "metadata": {},
   "outputs": [
    {
     "name": "stdout",
     "output_type": "stream",
     "text": [
      "태어난 해는? 1996\n",
      "1996년에 태어난 당신은 25살입니다.\n"
     ]
    }
   ],
   "source": [
    "# 프로그램을 작성하기 위해서는\n",
    "# 변수가 있어야 한다.\n",
    "birthyear = int(input(\"태어난 해는? \"))\n",
    "thisyear = 2021\n",
    "age = thisyear - birthyear\n",
    "print(str(birthyear) + \"년에 태어난 당신은 \" + str(age) + \"살입니다.\")"
   ]
  },
  {
   "cell_type": "markdown",
   "id": "grand-zoning",
   "metadata": {},
   "source": [
    "## 변수 : 프로그램에서 처리할 데이터를 보관하는 공간의 이름\n",
    "**변수 Variable** : 프로그램에서 처리할 데이터를 보관하는 공간의 이름  \n",
    "**상수 Constant** : 변수에 저장되는 숫자 데이터 또는 문자/문자열 데이터 Literal  \n",
    "                    PI = 3.141592  \n",
    "**변수의 형태 Type** : 변수에 보관되는 데이터의 형태와 크기를 type이라고 함  \n",
    "                      숫자(int, float)/문자(char)/문자열(string)/부울(boolean)"
   ]
  },
  {
   "cell_type": "code",
   "execution_count": 39,
   "id": "former-disabled",
   "metadata": {},
   "outputs": [
    {
     "name": "stdout",
     "output_type": "stream",
     "text": [
      "True\n"
     ]
    }
   ],
   "source": [
    "a = 10 > 5\n",
    "type(a)\n",
    "print(a)"
   ]
  },
  {
   "cell_type": "markdown",
   "id": "logical-jewelry",
   "metadata": {},
   "source": [
    "- print()함수를 이용한 다양한 출력  \n",
    "+ 서식의 지정 : 정수 10진수 %d, 16진수 %x, 8진수 %o, 실수 %f, 한 글자 %c, 문자열 %s\n",
    "+ format과 함께 사용\n",
    "\n",
    "print()함수를 이용한 다양한 출력문을 구성해 봅시다."
   ]
  },
  {
   "cell_type": "code",
   "execution_count": 47,
   "id": "trying-contemporary",
   "metadata": {},
   "outputs": [
    {
     "name": "stdout",
     "output_type": "stream",
     "text": [
      "0000000\n",
      "   20\n",
      "14\n",
      "24\n",
      " 20.0\n"
     ]
    }
   ],
   "source": [
    "a = 20\n",
    "print(\"0000000\")\n",
    "print(\"%5d\" % a)  # %d : 정수형 10진수 형태로 출력\n",
    "print(\"%x\" % a)  # %x : 정수형 16진수 형태로 출력\n",
    "print(\"%o\" % a)  # %o : 정수형 8진수 형태로 출력\n",
    "print(\"%5.1f\" % a)  # %f : 실수 형태로 출력"
   ]
  },
  {
   "cell_type": "code",
   "execution_count": 49,
   "id": "quality-banks",
   "metadata": {},
   "outputs": [
    {
     "name": "stdout",
     "output_type": "stream",
     "text": [
      "12345678901234567\n",
      "20    20\n"
     ]
    }
   ],
   "source": [
    "print(\"12345678901234567\")\n",
    "print(\"{0} {1:5}\".format(a, a))"
   ]
  },
  {
   "cell_type": "code",
   "execution_count": 52,
   "id": "square-creator",
   "metadata": {},
   "outputs": [
    {
     "name": "stdout",
     "output_type": "stream",
     "text": [
      "한국 \n",
      "아이티전문\t학원\n"
     ]
    }
   ],
   "source": [
    "print(\"한국 \\n아이티전문\\t학원\") # \\n : 줄바꿈, \\t : 탭, \\b "
   ]
  }
 ],
 "metadata": {
  "kernelspec": {
   "display_name": "Python 3",
   "language": "python",
   "name": "python3"
  },
  "language_info": {
   "codemirror_mode": {
    "name": "ipython",
    "version": 3
   },
   "file_extension": ".py",
   "mimetype": "text/x-python",
   "name": "python",
   "nbconvert_exporter": "python",
   "pygments_lexer": "ipython3",
   "version": "3.9.1"
  }
 },
 "nbformat": 4,
 "nbformat_minor": 5
}
