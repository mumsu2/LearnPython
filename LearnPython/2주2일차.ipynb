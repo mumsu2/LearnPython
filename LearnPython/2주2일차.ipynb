{
 "cells": [
  {
   "cell_type": "markdown",
   "id": "statewide-cause",
   "metadata": {},
   "source": [
    "# 4일차 수업\n",
    "### sequence 타입의 자료형\n",
    "\n",
    "#### 1.1 리스트 자료형  \n",
    "\n",
    "- 리스트의 정의 : 목록. 값을 일렬로 여러개 늘어늫은 형태\n",
    "- 리스트의 생성 : 리스트의 이름 = [값의 목록], 리스트의 이름 = list()\n",
    "- 리스트의 인덱싱 : 리스트의 특정 번째 요소를 지칭하는 숫자값 - 인덱스. 0 ~\n",
    "- 리스트의 슬라이싱 : 리스트에서 인덱스의 범위를 지정. list[1:3]\n",
    "- 리스트 연산\n",
    "    - 더하기\n",
    "    - 반복하기\n",
    "    - 길이 구하기\n",
    "- 리스트의 수정과 삭제 :\n",
    "- 리스트 관련 함수 :\n",
    "    - 요소 추가 append\n",
    "    - 정렬 sort\n",
    "    - 뒤집기 reverse\n",
    "    - 위치 반환 index\n",
    "    - 요소 삽입 insert\n",
    "    - 리스트 제거 remove\n",
    "    - 리스트 요소 끄집어내기 pop\n",
    "    - 리스트에 포함된 요소의 개수 세기 count\n",
    "    - 리스트 확장 extend\n"
   ]
  },
  {
   "cell_type": "code",
   "execution_count": 4,
   "id": "statistical-paradise",
   "metadata": {},
   "outputs": [],
   "source": [
    "# 리스트 생성하기\n",
    "# 리스트의 이름 = [값의 목록], 리스트의 이름 = list()\n",
    "lst = [1,2,3,4,5]"
   ]
  },
  {
   "cell_type": "code",
   "execution_count": 3,
   "id": "owned-entrepreneur",
   "metadata": {},
   "outputs": [
    {
     "name": "stdout",
     "output_type": "stream",
     "text": [
      "[1, 2, 3, 4, 5]\n"
     ]
    }
   ],
   "source": [
    "print(lst)"
   ]
  },
  {
   "cell_type": "code",
   "execution_count": 5,
   "id": "pretty-offering",
   "metadata": {},
   "outputs": [
    {
     "data": {
      "text/plain": [
       "1"
      ]
     },
     "execution_count": 5,
     "metadata": {},
     "output_type": "execute_result"
    }
   ],
   "source": [
    "lst[0] # 리스트의 개별 요소에 대한 접근 : 리스트이름[인덱스]"
   ]
  },
  {
   "cell_type": "code",
   "execution_count": 10,
   "id": "green-voluntary",
   "metadata": {},
   "outputs": [
    {
     "data": {
      "text/plain": [
       "2"
      ]
     },
     "execution_count": 10,
     "metadata": {},
     "output_type": "execute_result"
    }
   ],
   "source": [
    "lst[-4]"
   ]
  },
  {
   "cell_type": "code",
   "execution_count": 64,
   "id": "processed-reasoning",
   "metadata": {},
   "outputs": [],
   "source": [
    "lst2 = list(range(1,20,3)) # range(숫자1,숫자2,숫자3) : 숫자 ~ 숫자-1까지의 범위의 수를 생성해주는 메소드 ,세번째 숫자는 증감값\n",
    "# 음수와 0도 사용 가능"
   ]
  },
  {
   "cell_type": "code",
   "execution_count": 65,
   "id": "material-reservation",
   "metadata": {},
   "outputs": [
    {
     "data": {
      "text/plain": [
       "7"
      ]
     },
     "execution_count": 65,
     "metadata": {},
     "output_type": "execute_result"
    }
   ],
   "source": [
    "len(lst2) # 리스트의 크기, 요소의 갯수를 확인하는 메소드. len(리스트 이름)"
   ]
  },
  {
   "cell_type": "code",
   "execution_count": 67,
   "id": "precise-beast",
   "metadata": {},
   "outputs": [
    {
     "data": {
      "text/plain": [
       "[1, 4, 7, 10, 13, 16, 19]"
      ]
     },
     "execution_count": 67,
     "metadata": {},
     "output_type": "execute_result"
    }
   ],
   "source": [
    "lst2[:] # 슬라이싱 [::] : 콜론을 사용하여 영역을 지정. 마지막 숫자는 인덱스의 증감값"
   ]
  },
  {
   "cell_type": "code",
   "execution_count": 68,
   "id": "extensive-impression",
   "metadata": {},
   "outputs": [],
   "source": [
    "lst2[2] = 77"
   ]
  },
  {
   "cell_type": "code",
   "execution_count": 69,
   "id": "crude-timber",
   "metadata": {},
   "outputs": [
    {
     "data": {
      "text/plain": [
       "[1, 4, 77, 10, 13, 16, 19]"
      ]
     },
     "execution_count": 69,
     "metadata": {},
     "output_type": "execute_result"
    }
   ],
   "source": [
    "lst2"
   ]
  },
  {
   "cell_type": "code",
   "execution_count": 73,
   "id": "civic-madison",
   "metadata": {},
   "outputs": [],
   "source": [
    "#리스트의 더하기(산술적인 더하기가 아닌 리스트들의 결합)\n",
    "oddlst = [1,3,5,7,9]\n",
    "evenlst = [2,4,6,8,10]\n",
    "alllst = oddlst + evenlst"
   ]
  },
  {
   "cell_type": "code",
   "execution_count": 74,
   "id": "announced-dance",
   "metadata": {},
   "outputs": [
    {
     "data": {
      "text/plain": [
       "[1, 3, 5, 7, 9, 2, 4, 6, 8, 10]"
      ]
     },
     "execution_count": 74,
     "metadata": {},
     "output_type": "execute_result"
    }
   ],
   "source": [
    "alllst"
   ]
  },
  {
   "cell_type": "code",
   "execution_count": 76,
   "id": "national-glossary",
   "metadata": {},
   "outputs": [
    {
     "data": {
      "text/plain": [
       "[1, 3, 5, 7, 9, 1, 3, 5, 7, 9, 1, 3, 5, 7, 9]"
      ]
     },
     "execution_count": 76,
     "metadata": {},
     "output_type": "execute_result"
    }
   ],
   "source": [
    "# 리스트의 반복\n",
    "mullst = oddlst * 3\n",
    "mullst"
   ]
  },
  {
   "cell_type": "code",
   "execution_count": 94,
   "id": "thousand-lying",
   "metadata": {},
   "outputs": [
    {
     "data": {
      "text/plain": [
       "['홍길동', '춘향', '박문수']"
      ]
     },
     "execution_count": 94,
     "metadata": {},
     "output_type": "execute_result"
    }
   ],
   "source": [
    "# 리스트에 새로운 항목 추가하기\n",
    "stname = [\"홍길동\", \"춘향\", \"박문수\"]\n",
    "stname"
   ]
  },
  {
   "cell_type": "code",
   "execution_count": 95,
   "id": "narrow-helena",
   "metadata": {},
   "outputs": [
    {
     "data": {
      "text/plain": [
       "['홍길동', '춘향', '박문수', '이지은']"
      ]
     },
     "execution_count": 95,
     "metadata": {},
     "output_type": "execute_result"
    }
   ],
   "source": [
    "# 지은이가 전학을 와서 학생 명단에 지은을 추가하려고 함\n",
    "# stname[3] = \"이지은\"\n",
    "# 인덱스를 추가하는 방법 대신 append()함수를 사용\n",
    "# 리스트이름.append()\n",
    "stname.append(\"이지은\")\n",
    "stname"
   ]
  },
  {
   "cell_type": "code",
   "execution_count": 96,
   "id": "perceived-attempt",
   "metadata": {},
   "outputs": [
    {
     "data": {
      "text/plain": [
       "['홍길동', '춘향', '박문수']"
      ]
     },
     "execution_count": 96,
     "metadata": {},
     "output_type": "execute_result"
    }
   ],
   "source": [
    "# 리스트 항목 제거\n",
    "# del, pop\n",
    "stname.pop()\n",
    "stname"
   ]
  },
  {
   "cell_type": "code",
   "execution_count": 97,
   "id": "fantastic-miller",
   "metadata": {},
   "outputs": [
    {
     "data": {
      "text/plain": [
       "['홍길동', '춘향']"
      ]
     },
     "execution_count": 97,
     "metadata": {},
     "output_type": "execute_result"
    }
   ],
   "source": [
    "del stname[2]\n",
    "stname"
   ]
  },
  {
   "cell_type": "code",
   "execution_count": 98,
   "id": "short-dominant",
   "metadata": {},
   "outputs": [
    {
     "data": {
      "text/plain": [
       "['홍길동', '을지문덕', '춘향']"
      ]
     },
     "execution_count": 98,
     "metadata": {},
     "output_type": "execute_result"
    }
   ],
   "source": [
    "# 리스트에 항목 삽입 : 리스트이름.insert(인덱스,값)\n",
    "stname.insert(1,\"을지문덕\")\n",
    "stname"
   ]
  },
  {
   "cell_type": "code",
   "execution_count": 99,
   "id": "julian-explorer",
   "metadata": {},
   "outputs": [
    {
     "data": {
      "text/plain": [
       "['홍길동', '을지문덕']"
      ]
     },
     "execution_count": 99,
     "metadata": {},
     "output_type": "execute_result"
    }
   ],
   "source": [
    "# 값으로 항목 지우기 : remove()\n",
    "stname.remove(\"춘향\")\n",
    "stname"
   ]
  },
  {
   "cell_type": "code",
   "execution_count": 104,
   "id": "atomic-youth",
   "metadata": {},
   "outputs": [
    {
     "data": {
      "text/plain": [
       "['세냐', '홍길동', '을지문덕']"
      ]
     },
     "execution_count": 104,
     "metadata": {},
     "output_type": "execute_result"
    }
   ],
   "source": [
    "stname.insert(0,\"세냐\")\n",
    "stname"
   ]
  },
  {
   "cell_type": "code",
   "execution_count": 107,
   "id": "respective-occasions",
   "metadata": {},
   "outputs": [
    {
     "data": {
      "text/plain": [
       "['홍길동', '을지문덕', '세냐']"
      ]
     },
     "execution_count": 107,
     "metadata": {},
     "output_type": "execute_result"
    }
   ],
   "source": [
    "# 리스트의 정렬 : sort()\n",
    "stname.sort(reverse = True)\n",
    "stname"
   ]
  },
  {
   "cell_type": "markdown",
   "id": "cheap-amber",
   "metadata": {},
   "source": [
    "# 리스트에 대해 루프 실행하기\n",
    "```python\n",
    "print(stname[0])\n",
    "print(stname[1])\n",
    "print(stname[2])\n",
    "```\n",
    "위 방법은 출력해야 할 요소가 아주 많을 때는 불편하다"
   ]
  },
  {
   "cell_type": "code",
   "execution_count": 110,
   "id": "compressed-footwear",
   "metadata": {},
   "outputs": [
    {
     "name": "stdout",
     "output_type": "stream",
     "text": [
      "홍길동\n",
      "을지문덕\n",
      "세냐\n"
     ]
    }
   ],
   "source": [
    "for student in stname:\n",
    "    print(student)\n",
    "    # 들여쓰기가 문법적 요소로 작용함"
   ]
  },
  {
   "cell_type": "code",
   "execution_count": 115,
   "id": "central-abuse",
   "metadata": {},
   "outputs": [
    {
     "name": "stdout",
     "output_type": "stream",
     "text": [
      "Alice, that was a great trick!\n",
      "i can't wait to see your next trick, Alice.\n",
      "\n",
      "David, that was a great trick!\n",
      "i can't wait to see your next trick, David.\n",
      "\n",
      "Carolina, that was a great trick!\n",
      "i can't wait to see your next trick, Carolina.\n",
      "\n",
      "Thank you, everyone. That was a great magic show!\n"
     ]
    }
   ],
   "source": [
    "magicians = ['alice', 'david', 'carolina']\n",
    "for magician in magicians :\n",
    "    print(f\"{magician.title()}, that was a great trick!\")\n",
    "    print(f\"i can't wait to see your next trick, {magician.title()}.\\n\")\n",
    "\n",
    "print(\"Thank you, everyone. That was a great magic show!\")"
   ]
  },
  {
   "cell_type": "code",
   "execution_count": null,
   "id": "hearing-limit",
   "metadata": {},
   "outputs": [],
   "source": []
  },
  {
   "cell_type": "markdown",
   "id": "suburban-governor",
   "metadata": {},
   "source": [
    "#### 1.2 튜플 자료형\n",
    "    \n",
    "    ※ 튜플은 몇 가지 점을 제외하고 리스트와 거의 비슷. 다른 점\n",
    "    - 리스트는 []로 둘러싸지만 튜플은()로 둘러싸인다.\n",
    "    - 리스트는 그 값의 생성, 삭제, 수정이 가능하지만 튜플은 그 값을 바꿀 수 없다.\n",
    " \n",
    " - 튜플의 생성\n",
    " - 튜플 인덱싱\n",
    " - 튜플 슬라이싱\n",
    " - 튜플 더하기\n",
    " - 튜플 곱하기\n",
    " - 튜플 길이 구하기"
   ]
  },
  {
   "cell_type": "code",
   "execution_count": 70,
   "id": "shaped-value",
   "metadata": {},
   "outputs": [],
   "source": [
    "tpl = tuple(range(1,11,2))"
   ]
  },
  {
   "cell_type": "code",
   "execution_count": 71,
   "id": "portuguese-trader",
   "metadata": {},
   "outputs": [
    {
     "data": {
      "text/plain": [
       "(1, 3, 5, 7, 9)"
      ]
     },
     "execution_count": 71,
     "metadata": {},
     "output_type": "execute_result"
    }
   ],
   "source": [
    "tpl"
   ]
  },
  {
   "cell_type": "code",
   "execution_count": 116,
   "id": "critical-growing",
   "metadata": {},
   "outputs": [
    {
     "data": {
      "text/plain": [
       "5"
      ]
     },
     "execution_count": 116,
     "metadata": {},
     "output_type": "execute_result"
    }
   ],
   "source": [
    "tpl[2]"
   ]
  },
  {
   "cell_type": "markdown",
   "id": "antique-planner",
   "metadata": {},
   "source": [
    "#### 1.3 딕셔너리 자료형\n",
    "\n",
    " - 딕셔너리 : {key1:value1, key2:value2...}\n",
    " - 딕셔너리 쌍 추가\n",
    " - 딕셔너리 요소 삭제\n",
    " - key값 사용 value 얻기\n",
    " - value 리스트 만들기 keys()\n",
    " - value 리스트 마들기 values()\n",
    " - key, value 쌍 얻기 items()\n",
    " - key, value 쌍 모두 지우기 clear()\n",
    " - key로 value 얻기 get()\n",
    " - 해당 키가 딕셔너리 안에 있는지 조사하기 in()"
   ]
  },
  {
   "cell_type": "markdown",
   "id": "charged-porcelain",
   "metadata": {},
   "source": [
    "#### 1.4 집합 자료형\n",
    "\n",
    "집합은 순서의 개념이 없고, 중복을 허용하지 않는다.\n",
    "\n",
    " - 집합 생성하기 : set 키워드 사용, set()의 괄호 안에 리스트를 입력하여 만든다.\n",
    " - 교집합 &, intersection\n",
    " - 합집합 |, union\n",
    " - 차집합 -, difference\n",
    " - 집합에 한 개 값 추가하기 add()\n",
    " - 집합에 여러 개 값 추가하기 update()\n",
    " - 특정 값 제거하기 remove()"
   ]
  },
  {
   "cell_type": "markdown",
   "id": "local-hundred",
   "metadata": {},
   "source": [
    "### 3. 조건 제어 연습\n",
    "조건제어는 관계연산자 또는 논리연산자 등을 사용하여 조건문을 테스트해서 조건이 참인 경우와 거짓인 경우에 대하여 각각 실행을 달리하는 방식이다.\n",
    "사용 가능한 관계연산자로서는 >, <, >=, <=, ==, != 등을 사용하고, 논리 연산자로 &&, ||, ^, ~ 등의 연산자를 사용한다.\n",
    "\n",
    "#### if와  else\n",
    "```python\n",
    "if a > b: # 만약 a가 b보다 크면\n",
    "    print(a) # a를 출력한다.\n",
    "else: # 그렇지 않으면\n",
    "    print(b) # b를 출력한다.\n",
    "```"
   ]
  },
  {
   "cell_type": "code",
   "execution_count": 118,
   "id": "administrative-messaging",
   "metadata": {},
   "outputs": [
    {
     "name": "stdout",
     "output_type": "stream",
     "text": [
      "Audi\n",
      "BMW\n",
      "Subaru\n",
      "Toyota\n"
     ]
    }
   ],
   "source": [
    "cars = ['audi', 'bmw', 'subaru', 'toyota']\n",
    "\n",
    "for car in cars:\n",
    "    if car == 'bmw':\n",
    "        print(car.upper())\n",
    "    else:\n",
    "        print(car.title())"
   ]
  },
  {
   "cell_type": "markdown",
   "id": "turned-sugar",
   "metadata": {},
   "source": [
    "#### elif\n",
    "\n",
    "여러개의 조건을 비교할 때 사용한다.\n",
    "```python\n",
    "if c > d:\n",
    "    print('c가 d보다 크다')\n",
    "elif c == d:\n",
    "    print('c는 d와 같다')\n",
    "elif c < d:\n",
    "    print('c는 d보다 작다')\n",
    "else:\n",
    "    print('잘 모르겠어요')\n",
    "```"
   ]
  },
  {
   "cell_type": "markdown",
   "id": "irish-oracle",
   "metadata": {},
   "source": [
    "**<연습문제>** 다섯 과목의 점수가 score 리스트에 저장되어 있다. 총점을 구하고, 평균이 90점 이상이면 A등급을, 80점 이상이면 B등급을, 70점 이상이면 C등급을 부여하고 그 외에는 F등급을 부여하는 프로그램을 작성하시오."
   ]
  },
  {
   "cell_type": "code",
   "execution_count": 120,
   "id": "clear-guess",
   "metadata": {},
   "outputs": [
    {
     "name": "stdout",
     "output_type": "stream",
     "text": [
      "A\n"
     ]
    }
   ],
   "source": [
    "# 문제해결과정\n",
    "#1. 다섯 과목의 점수로 리스트를 구성한다.\n",
    "#2. 총점을 저장하기 위한 변수를 0으로 초기화한다.\n",
    "#3. 평균을 구하기 위하여 다음 단계를 반복한다.\n",
    "    #3.1 n번째 요소를 가져온다.\n",
    "    #3.2 총점에 n번째 요소를 누적한다.\n",
    "#4. 평균에 따라 등급을 나눈다.\n",
    "\n",
    "scores = [100, 90, 85, 90, 87]\n",
    "total = 0\n",
    "for score in scores:\n",
    "    total += score\n",
    "    \n",
    "avg = total / 5\n",
    "\n",
    "if avg >= 90:\n",
    "    grade = \"A\"\n",
    "elif avg >= 80:\n",
    "    grade = \"B\"\n",
    "elif avg >= 70:\n",
    "    grade = \"C\"\n",
    "else :\n",
    "    grade = \"F\"\n",
    "\n",
    "print(grade)"
   ]
  }
 ],
 "metadata": {
  "kernelspec": {
   "display_name": "Python 3",
   "language": "python",
   "name": "python3"
  },
  "language_info": {
   "codemirror_mode": {
    "name": "ipython",
    "version": 3
   },
   "file_extension": ".py",
   "mimetype": "text/x-python",
   "name": "python",
   "nbconvert_exporter": "python",
   "pygments_lexer": "ipython3",
   "version": "3.8.7"
  }
 },
 "nbformat": 4,
 "nbformat_minor": 5
}
