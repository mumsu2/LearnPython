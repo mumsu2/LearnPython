{
 "cells": [
  {
   "cell_type": "markdown",
   "id": "positive-heating",
   "metadata": {},
   "source": [
    "### 1. 1~2일차 수업내용\n",
    "#### 1.1 입출력함수\n",
    "- 사용자로부터 데이터를 입력받기 위한 함수 = input()\n",
    "\n",
    "```python\n",
    "a = input(\"a : \")\n",
    "b = input(\"b : \")\n",
    "result = a + b\n",
    "print(a + \" + \" + b + \" = \" + result)\n",
    "```"
   ]
  },
  {
   "cell_type": "code",
   "execution_count": 2,
   "id": "labeled-plastic",
   "metadata": {},
   "outputs": [
    {
     "name": "stdout",
     "output_type": "stream",
     "text": [
      "숫자를 하나 입력해주세요100\n",
      "100\n"
     ]
    }
   ],
   "source": [
    "a = input(\"숫자를 하나 입력해주세요\")\n",
    "print(a)"
   ]
  },
  {
   "cell_type": "code",
   "execution_count": 13,
   "id": "pressing-extension",
   "metadata": {},
   "outputs": [
    {
     "name": "stdout",
     "output_type": "stream",
     "text": [
      "a : 3\n",
      "b : 4\n",
      "3 + 4 = 34\n"
     ]
    }
   ],
   "source": [
    "a = input(\"a : \")\n",
    "b = input(\"b : \")\n",
    "result = a + b # 두 개의 숫자를 더하기\n",
    "print(a + \" + \" + b + \" = \" + result)"
   ]
  },
  {
   "cell_type": "code",
   "execution_count": 14,
   "id": "united-greece",
   "metadata": {},
   "outputs": [
    {
     "data": {
      "text/plain": [
       "str"
      ]
     },
     "execution_count": 14,
     "metadata": {},
     "output_type": "execute_result"
    }
   ],
   "source": [
    "type(a)"
   ]
  },
  {
   "cell_type": "markdown",
   "id": "finished-dryer",
   "metadata": {},
   "source": [
    "위 실행코드는 오류가 발생한다. input()함수를 통한 입력값은 문자열이기 때문에 연산적용이 안된다. 따라서 정수로 변환하는 과정이 필요하다.\n",
    "```python\n",
    "a = int(input(\"a: \"))\n",
    "b = int(input(\"b: \"))\n",
    "print(a + \" + \" + b + \" = \" + result)\n",
    "```"
   ]
  },
  {
   "cell_type": "code",
   "execution_count": 10,
   "id": "stopped-trainer",
   "metadata": {},
   "outputs": [
    {
     "name": "stdout",
     "output_type": "stream",
     "text": [
      "a: 3\n",
      "b: 4\n",
      "7\n"
     ]
    }
   ],
   "source": [
    "a = int(input(\"a: \"))\n",
    "b = int(input(\"b: \"))\n",
    "result = a + b \n",
    "print(result)"
   ]
  },
  {
   "cell_type": "code",
   "execution_count": 11,
   "id": "systematic-trust",
   "metadata": {},
   "outputs": [
    {
     "data": {
      "text/plain": [
       "int"
      ]
     },
     "execution_count": 11,
     "metadata": {},
     "output_type": "execute_result"
    }
   ],
   "source": [
    "type(a)"
   ]
  },
  {
   "cell_type": "markdown",
   "id": "blond-playlist",
   "metadata": {},
   "source": [
    "<연습문제> 사용자로부터 태어난 해를 입력받아 나이를 계산하는 프로그램을 작성해보자."
   ]
  },
  {
   "cell_type": "code",
   "execution_count": 24,
   "id": "canadian-excerpt",
   "metadata": {},
   "outputs": [
    {
     "name": "stdout",
     "output_type": "stream",
     "text": [
      "기준년도2021\n",
      "b : 1996\n",
      "25\n"
     ]
    }
   ],
   "source": [
    "a = int(input(\"기준년도\"))\n",
    "b = int(input(\"b : \"))\n",
    "result = a - b\n",
    "print(result)"
   ]
  },
  {
   "cell_type": "code",
   "execution_count": null,
   "id": "empty-winner",
   "metadata": {},
   "outputs": [],
   "source": []
  }
 ],
 "metadata": {
  "kernelspec": {
   "display_name": "Python 3",
   "language": "python",
   "name": "python3"
  },
  "language_info": {
   "codemirror_mode": {
    "name": "ipython",
    "version": 3
   },
   "file_extension": ".py",
   "mimetype": "text/x-python",
   "name": "python",
   "nbconvert_exporter": "python",
   "pygments_lexer": "ipython3",
   "version": "3.9.1"
  }
 },
 "nbformat": 4,
 "nbformat_minor": 5
}
